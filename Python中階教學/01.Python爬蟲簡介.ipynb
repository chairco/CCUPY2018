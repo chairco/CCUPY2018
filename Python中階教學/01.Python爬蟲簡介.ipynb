{
 "cells": [
  {
   "cell_type": "markdown",
   "metadata": {},
   "source": [
    "# Python中階-爬蟲簡介\n",
    "\n",
    "\n",
    "## 中正大學資管系 (20181021)"
   ]
  },
  {
   "cell_type": "markdown",
   "metadata": {},
   "source": [
    "## 什麼是爬蟲?\n",
    "\n",
    "+ 網站是一種靜態網頁(html)\n",
    "+ 網站有資料庫但不提供 api 取得資料\n",
    "\n",
    "以上情形，而你對某些網站的訊息感到興趣，所以你會用類似瀏覽器的方式去自動一個個爬取網站內容，我們稱之為爬蟲"
   ]
  },
  {
   "cell_type": "markdown",
   "metadata": {},
   "source": [
    "## 基本環境\n",
    "\n",
    "本教學使用 Python3，建議使用 Anaconda 安裝 Python，且版本最好是 3.5 以上。如果你使用 Anaconda 安裝的 Python 預設可能已經安裝相關的爬蟲套件，可以使用 `pip list` 來確認使否有安裝相關套件:\n",
    "\n",
    "+ `requests`: 發送 HTTP 請求與回應，因此不推薦 `urlib` 模組\n",
    "+ `requests_html`: 解析 `html` 內容與元素（Requests 同作者）\n",
    "+ `BeautifulSoup 4`: 解析 `html` 內容\n",
    "+ `lxml`: 簡單，但要先熟系 xpath 語法，也容易學\n",
    "\n",
    "\n",
    "假使沒有安裝相關套件，請使用 pip 安裝。不過在安裝之前我們建議使用虛擬環境來區分不同專案的套件"
   ]
  },
  {
   "cell_type": "markdown",
   "metadata": {},
   "source": [
    "## 虛擬環境設定\n",
    "\n",
    "### Conda 建立虛擬環境 (Virtual Environment)\n",
    "\n",
    "使用 `Anaconda` 來安裝 Python 的話會內建 conda 指令，可以使用 conda 來建立虛擬環境:\n",
    "\n",
    "* 建立 virtual environment\n",
    "```\n",
    "c:\\> conda create -n yourenvname python=x.x anaconda\n",
    "```\n",
    "\n",
    "* 列出所有 virtual environment\n",
    "```\n",
    "c:\\> conda info -e\n",
    "```\n",
    "\n",
    "* 啟動 virtual environment\n",
    "```\n",
    "c:\\> source activate yourenvname\n",
    "```\n",
    "\n",
    "* 停止 virtual environment\n",
    "```\n",
    "c:\\> source deactivate\n",
    "```\n",
    "\n",
    "* 刪除 virtual environment\n",
    "```\n",
    "c:\\> conda remove -n yourenvname --all\n",
    "```\n",
    "\n",
    "### Python 建立虛擬環境 (Virtual Environment)\n",
    "\n",
    "如果使用自行安裝的 Python3.x 可以使用 Python 提供的指令來建立一個虛擬環境:\n",
    "\n",
    "\n",
    "* 建立一個名稱為 `env` 虛擬環境\n",
    "```\n",
    "c:\\> python -m vevn env\n",
    "```"
   ]
  },
  {
   "cell_type": "markdown",
   "metadata": {},
   "source": [
    "## 安裝套件\n",
    "\n",
    "使用 pip 安裝套件 `pip install requests` 安裝成功之後。就能開始使用了。\n",
    "\n",
    "試著 `import` 套件，接著試著爬 `http://example.com`"
   ]
  },
  {
   "cell_type": "code",
   "execution_count": 2,
   "metadata": {},
   "outputs": [
    {
     "name": "stdout",
     "output_type": "stream",
     "text": [
      "<Response [200]>\n"
     ]
    }
   ],
   "source": [
    "import requests\n",
    "url = 'http://example.com/'\n",
    "resp = requests.get(url)\n",
    "print(resp)"
   ]
  },
  {
   "cell_type": "code",
   "execution_count": null,
   "metadata": {},
   "outputs": [],
   "source": [
    "# 回傳 200 代表成功。接著印出內容\n",
    "resp.text"
   ]
  },
  {
   "cell_type": "markdown",
   "metadata": {},
   "source": [
    "### 輸出內容有格式"
   ]
  },
  {
   "cell_type": "code",
   "execution_count": 20,
   "metadata": {},
   "outputs": [],
   "source": [
    "import pprint\n",
    "pp = pprint.PrettyPrinter(indent=4)\n",
    "pp.pprint(resp.text)"
   ]
  },
  {
   "cell_type": "markdown",
   "metadata": {},
   "source": [
    "## 使用 requests_html 解析 html 原始碼，[文件連結](https://html.python-requests.org)"
   ]
  },
  {
   "cell_type": "code",
   "execution_count": 6,
   "metadata": {},
   "outputs": [
    {
     "data": {
      "text/plain": [
       "'This domain is established to be used for illustrative examples in documents. You may use this domain in examples without prior coordination or asking for permission.'"
      ]
     },
     "execution_count": 6,
     "metadata": {},
     "output_type": "execute_result"
    }
   ],
   "source": [
    "from requests_html import HTML\n",
    "html = HTML(html=resp.text)\n",
    "post_entries = html.find('body div p')\n",
    "post_entries[0].text"
   ]
  },
  {
   "cell_type": "markdown",
   "metadata": {},
   "source": [
    "## 使用 BeautifulSoup 剖析 html 原始碼，[文件連結](https://www.crummy.com/software/BeautifulSoup/bs4/doc/#installing-beautiful-soup)"
   ]
  },
  {
   "cell_type": "code",
   "execution_count": 8,
   "metadata": {},
   "outputs": [
    {
     "data": {
      "text/plain": [
       "'This domain is established to be used for illustrative examples in documents. You may use this\\n    domain in examples without prior coordination or asking for permission.'"
      ]
     },
     "execution_count": 8,
     "metadata": {},
     "output_type": "execute_result"
    }
   ],
   "source": [
    "from bs4 import BeautifulSoup\n",
    "soup = BeautifulSoup(resp.text, 'lxml')\n",
    "soup.select('body div p')[0].text"
   ]
  },
  {
   "cell_type": "markdown",
   "metadata": {},
   "source": [
    "## 結論\n",
    "\n",
    "會發現不同的套件，原理其實是一樣的，只是封裝的方法有些許不同，因此可以根據你的喜好去選擇套件使用"
   ]
  },
  {
   "cell_type": "markdown",
   "metadata": {},
   "source": [
    "### 嘗試挖取 cynes 的新聞文章"
   ]
  },
  {
   "cell_type": "code",
   "execution_count": 26,
   "metadata": {},
   "outputs": [
    {
     "data": {
      "text/plain": [
       "'台股今 (15) 大跌 144 點，收在 9901 點，差 1 點就又失 9900 關卡，三大法人再度同步站在賣方，自營商賣超 5.74 億元，投信賣超 2.21 億元，外資及陸資賣超 195.54 億元，三大法人合計砍出 203.49 億元。\\n值得留意的是，外資大砍元大台灣 50 (0050-TW) 高達 4.15 萬張、台積電 2.2 萬張，其中台積電已被外資連 7 賣，合計出脫超過 10 萬張，外資今天還重兵狙擊金融股，賣超前 10 名個股中，金融股就佔據了 6 檔，電子、金融權值股明顯成了外資賣超主要標的，慎防外資恐加速提款。\\n外資現貨賣超 195 億，已經連 7 賣，期貨淨多單持續略增，淨多單水位升至 26506 口，外資連日逢低大幅低接台指期淨多單，但台指期週三即將結算，目前整體氣氛仍是偏空，要小心結算行情。\\n外資今天買超前 10 名個股分別為：富邦 VIX 獲買超 19552 張、元大台灣 50 反 1 獲買超 15138 張、南亞科 7102 張、台航 3359 張、兆豐金 2703 張、華泰 2247 張、裕民 1595 張、GIS-KY 獲買超 1278 張、晶電 1179 張、華通 1153 張。\\n外資賣超前 10 名個股分別為：元大台灣 50 遭砍 41514 張、台積電 22615 張、旺宏 17913 張、開發金 17306 張、群創 16145 張、新光金 13935 張、玉山金 13411 張、元大金 13316 張、第一金 12753 張、台新金 12333 張。\\n投信買超前 10 名個股分別為：新興 1196 張、裕民 1010 張、中鴻 700 張、玉山金 642 張、華新科 524 張、華通 509 張、文曄 500 張、台表科 459 張、台達電 449 張、兆豐金 380 張。\\n投信賣超前 10 名個股分別為：遠東新 4047 張、華泰 3392 張、中纖 1904 張、欣興 1541 張、達運 1107 張、台化 1093 張、開發金 1030 張、國喬 980 張、奇力新 901 張、中石化 750 張。\\n自營商無論買賣超，都大舉操作權證，買超前 10 名個股分別為：元大台灣 50 反 1 獲買 48121 張、富邦 VIX 獲買 10362 張、滬深 2X 群益 7C 購 07 獲買 3036 張、華邦電永昌 83 購 02 獲買 3019 張、臺股指元大 84 售 06 獲買 2949 張、彰銀麥證 84 購 01 獲買 2814 張、聯電永昌 83 購 01 獲買 2666 張、永豐金麥證 83 購 01 獲買 2499 張、聯詠麥證 83 購 01 獲買 2472 張、臺股指凱基 83 售 09 獲買 2419 張。\\n自營商賣超前 10 名個股分別為：元大滬深 300 正 2 遭賣 17583 張、元大高股息 15488 張、臺股指永昌 83 售 04 遭賣 3983 張、富邦上証正 2 遭賣 3584 張、致茂麥證 84 購 01 遭賣 3441 張、元大台灣 50 正 2 遭賣 3119 張、台積電元大 86 購 01 遭賣 3088 張、滬深 2X 群益 82 購 01 遭賣 3076 張、元大台灣 50 遭賣 2729 張、台新金 2254 張。\\n整體來說，外資持續提款，導致大型權值股賣壓沉重，加權指數今天重挫 144 點；但是相對於權值股的表現，今天中小型股股價表現亮眼，預料還是政府四大基金與公股行庫等「國家隊」持續進場，鎖定超跌的業績股逢低呈接，但目前三大法人操作仍是偏空，尤其外資有明顯鎖定電子金融權值股提款的跡象，短線在台指期結算未明朗前，建議操作仍保守為宜。\\n'"
      ]
     },
     "execution_count": 26,
     "metadata": {},
     "output_type": "execute_result"
    }
   ],
   "source": [
    "url = 'https://news.cnyes.com/news/id/4218190'\n",
    "resp = requests.get(url)\n",
    "soup = BeautifulSoup(resp.text, 'lxml')\n",
    "soup.select('div[itemprop=\"articleBody\"]')[0].text"
   ]
  },
  {
   "cell_type": "markdown",
   "metadata": {},
   "source": [
    "## 練習\n",
    "\n",
    "+ 使用 requests_html 試試抓出一樣的內容\n",
    "+ 選擇你喜歡的套件抓取 `url = https://tw.entertainment.appledaily.com/realtime/20181016/1448564/` 的新聞文章內容"
   ]
  },
  {
   "cell_type": "markdown",
   "metadata": {},
   "source": [
    "## 進階\n",
    "\n",
    "如何抓取*八卦版文章*(告訴伺服器你已經滿 18 歲？)可[參考](http://largitdata.com/course/46/)"
   ]
  },
  {
   "cell_type": "code",
   "execution_count": 19,
   "metadata": {},
   "outputs": [
    {
     "name": "stdout",
     "output_type": "stream",
     "text": [
      "10/17 bruce32439 \n",
      "[問卦] 登入1500就算是大學長了嗎\n",
      "\n",
      "10/17 catwalk456 \n",
      "[新聞] 慶生趴變大根鬥毆　春風怒「沒在場，關我\n",
      "\n",
      "10/17 Linama \n",
      "[新聞] 日媒：中告知日將放寬食品進口限制可望\n",
      "\n",
      "10/17 sqe123456z \n",
      "[問卦] 手搖飲料可以帶進捷運站嗎？\n",
      "\n",
      "10/17 Benbenyale \n",
      "[問卦] 人類為何不再登月了?\n",
      "\n",
      "10/17 q10242 \n",
      "[爆卦] Youtube修好了\n",
      "\n",
      "10/17 g987669 \n",
      "[新聞] Youtube大掛點 均已先恢復\n",
      "\n",
      "10/17 xxxpoolixxx \n",
      "[問卦] 控制不了眼球該如何是好\n",
      "\n",
      "10/17 fatman5566 \n",
      "[問卦] 嗆法官智商低的 誰考得上\n",
      "\n",
      "10/17 yuzukineko \n",
      "[問卦] 祭祀先祖要說什麼好\n",
      "\n",
      "10/17 ptt987654321 \n",
      "[ＦＢ] 朱學恒-當年政治受難者變對民眾提告代表\n",
      "\n",
      "10/17 ru04ul4 \n",
      "[ＦＢ] YouTube\n",
      "\n",
      "10/17 xraymugen \n",
      "Re: [新聞] 母湯！美男路上酒醉 竟「性侵」汽車排氣\n",
      "\n",
      "10/17 ufel1226 \n",
      "[新聞] 三中案馬英九主導音檔曝光　馬辦嗆：透過\n",
      "\n",
      "10/17 gilingking \n",
      "[問卦] Youtube是不是歧視工程師?\n",
      "\n",
      "10/17 Sunerk \n",
      "Re: [新聞] 中成立對台小組：騙台媒轉載假新聞可領錢\n",
      "\n",
      "10/17 INGNI \n",
      "[問卦] 米國工程師是不是找不到重開機按鈕?\n",
      "\n",
      "10/17 askaleroux \n",
      "[新聞] 館長表態挺韓國瑜 嗆民進黨 做得比狗屎爛\n",
      "\n",
      "10/17 wugucc029 \n",
      "[問卦] 密學妹都被不讀不回怎麼解\n",
      "\n",
      "10/17 danieloo \n",
      "Re: [問卦] 20年前的高雄台北差多少？\n",
      "\n",
      "11/11 Kay731 \n",
      "[公告] 八卦板板規(2017.11.11)\n",
      "\n",
      " 9/30 RandyMarsh \n",
      "[公告] 政問罰則暫時提高至16個月\n",
      "\n",
      "10/01 RandyMarsh \n",
      "[公告] 十月置底閒聊聊天文\n",
      "\n",
      "10/14 YAKIOAO \n",
      "[協尋] 1071008晚間民權東路三段/龍江路口車禍\n",
      "\n",
      "10/16 girl55665566 \n",
      "[公告] 八卦板板規修訂案於GossipPicket討論中 \n",
      "\n"
     ]
    }
   ],
   "source": [
    "import urllib3\n",
    "urllib3.disable_warnings(urllib3.exceptions.InsecureRequestWarning) # 關閉 ssl 驗證 https://www.jianshu.com/p/bc2ad1311331\n",
    "\n",
    "payload = {\n",
    "    'from':'/bbs/Gossiping/index.html',\n",
    "    'yes':'yes'\n",
    "}\n",
    "r = requests.session()\n",
    "res = r.post('https://www.ptt.cc/ask/over18', verify=False, data=payload)\n",
    "res = r.get('https://www.ptt.cc/bbs/Gossiping/index.html', verify=False)\n",
    "\n",
    "soup = BeautifulSoup(res.text, 'lxml')\n",
    "for entry in soup.select('.r-ent'):\n",
    "    print(entry.select('.date')[0].text, entry.select('.author')[0].text, entry.select('.title')[0].text)"
   ]
  },
  {
   "cell_type": "markdown",
   "metadata": {},
   "source": [
    "### 有其他方式直接告訴網站你滿 18?"
   ]
  },
  {
   "cell_type": "code",
   "execution_count": 18,
   "metadata": {},
   "outputs": [
    {
     "name": "stdout",
     "output_type": "stream",
     "text": [
      "10/17 bruce32439 [問卦] 登入1500就算是大學長了嗎\n",
      "10/17 catwalk456 [新聞] 慶生趴變大根鬥毆　春風怒「沒在場，關我\n",
      "10/17 Linama [新聞] 日媒：中告知日將放寬食品進口限制可望\n",
      "10/17 sqe123456z [問卦] 手搖飲料可以帶進捷運站嗎？\n",
      "10/17 Benbenyale [問卦] 人類為何不再登月了?\n",
      "10/17 q10242 [爆卦] Youtube修好了\n",
      "10/17 g987669 [新聞] Youtube大掛點 均已先恢復\n",
      "10/17 xxxpoolixxx [問卦] 控制不了眼球該如何是好\n",
      "10/17 fatman5566 [問卦] 嗆法官智商低的 誰考得上\n",
      "10/17 yuzukineko [問卦] 祭祀先祖要說什麼好\n",
      "10/17 ptt987654321 [ＦＢ] 朱學恒-當年政治受難者變對民眾提告代表\n",
      "10/17 ru04ul4 [ＦＢ] YouTube\n",
      "10/17 xraymugen Re: [新聞] 母湯！美男路上酒醉 竟「性侵」汽車排氣\n",
      "10/17 ufel1226 [新聞] 三中案馬英九主導音檔曝光　馬辦嗆：透過\n",
      "10/17 gilingking [問卦] Youtube是不是歧視工程師?\n",
      "10/17 Sunerk Re: [新聞] 中成立對台小組：騙台媒轉載假新聞可領錢\n",
      "10/17 INGNI [問卦] 米國工程師是不是找不到重開機按鈕?\n",
      "10/17 askaleroux [新聞] 館長表態挺韓國瑜 嗆民進黨 做得比狗屎爛\n",
      "10/17 wugucc029 [問卦] 密學妹都被不讀不回怎麼解\n",
      "10/17 danieloo Re: [問卦] 20年前的高雄台北差多少？\n",
      "11/11 Kay731 [公告] 八卦板板規(2017.11.11)\n",
      "9/30 RandyMarsh [公告] 政問罰則暫時提高至16個月\n",
      "10/01 RandyMarsh [公告] 十月置底閒聊聊天文\n",
      "10/14 YAKIOAO [協尋] 1071008晚間民權東路三段/龍江路口車禍\n",
      "10/16 girl55665566 [公告] 八卦板板規修訂案於GossipPicket討論中\n"
     ]
    }
   ],
   "source": [
    "url = 'https://www.ptt.cc/bbs/Gossiping/index.html'\n",
    "resp = requests.get(url)\n",
    "resp = requests.get(url, cookies={'over18': '1'})  # 一直向 server 回答滿 18 歲了 !\n",
    "html = HTML(html=resp.text)\n",
    "post_entries = html.find('div.r-ent')\n",
    "for ent in post_entries:\n",
    "    print(ent.find('div.date', first=True).text, ent.find('div.author', first=True).text, ent.find('div.title', first=True).text)"
   ]
  },
  {
   "cell_type": "code",
   "execution_count": null,
   "metadata": {},
   "outputs": [],
   "source": []
  }
 ],
 "metadata": {
  "kernelspec": {
   "display_name": "Python 3",
   "language": "python",
   "name": "python3"
  },
  "language_info": {
   "codemirror_mode": {
    "name": "ipython",
    "version": 3
   },
   "file_extension": ".py",
   "mimetype": "text/x-python",
   "name": "python",
   "nbconvert_exporter": "python",
   "pygments_lexer": "ipython3",
   "version": "3.6.2"
  }
 },
 "nbformat": 4,
 "nbformat_minor": 2
}
