{
 "cells": [
  {
   "cell_type": "markdown",
   "metadata": {},
   "source": [
    "# Python中階-處理刪除文章\n",
    "\n",
    "\n",
    "## 中正大學資管系 (20181021) 大綱\n",
    "\n",
    "文章被刪除了，某些資料出現錯誤了？怎麼辦"
   ]
  },
  {
   "cell_type": "markdown",
   "metadata": {},
   "source": [
    "如果要進一步爬取每一篇文章的內容，那勢必要取得文章的網址，但在爬取過程中會發生一個現象是：文章刪除了導致無法取得網址\n",
    "\n",
    "![](images/pttdelete.png)\n",
    "\n",
    "假如以剛剛例子，要用 `entry.find('div.title > a', first=True).attrs['href']` 取的內容，會出現以下錯誤:\n",
    "\n",
    "```python\n",
    "AttributeError: 'NoneType' object has no attribute 'attrs'\n",
    "```\n",
    "\n",
    "意思是找不到 .attrs 的屬性，很正常，因為被刪除了嘛。那要怎麼處理呢？還記得最一開始講的 `try...except` 例外處理嗎？"
   ]
  },
  {
   "cell_type": "code",
   "execution_count": 4,
   "metadata": {},
   "outputs": [
    {
     "name": "stdout",
     "output_type": "stream",
     "text": [
      "[爽無雷] 狂徒-我拜託你們進電影院看!!\n",
      "/bbs/movie/M.1540011223.A.140.html\n",
      "[新聞] 巧巧裸戰三級片 傻眼強國妞露毛求上位\n",
      "/bbs/movie/M.1540012795.A.C11.html\n",
      "[雷] 電影【請做我的主人】純粹地做愛吧\n",
      "/bbs/movie/M.1540014076.A.21C.html\n",
      "(本文已被刪除) [yslimit]\n"
     ]
    },
    {
     "ename": "AttributeError",
     "evalue": "'NoneType' object has no attribute 'attrs'",
     "output_type": "error",
     "traceback": [
      "\u001b[0;31m---------------------------------------------------------------------------\u001b[0m",
      "\u001b[0;31mAttributeError\u001b[0m                            Traceback (most recent call last)",
      "\u001b[0;32m<ipython-input-4-0441ab90a1b1>\u001b[0m in \u001b[0;36m<module>\u001b[0;34m()\u001b[0m\n\u001b[1;32m      8\u001b[0m     \u001b[0mtitle\u001b[0m \u001b[0;34m=\u001b[0m \u001b[0mentry\u001b[0m\u001b[0;34m.\u001b[0m\u001b[0mfind\u001b[0m\u001b[0;34m(\u001b[0m\u001b[0;34m'div.title'\u001b[0m\u001b[0;34m,\u001b[0m \u001b[0mfirst\u001b[0m\u001b[0;34m=\u001b[0m\u001b[0;32mTrue\u001b[0m\u001b[0;34m)\u001b[0m\u001b[0;34m.\u001b[0m\u001b[0mtext\u001b[0m\u001b[0;34m\u001b[0m\u001b[0m\n\u001b[1;32m      9\u001b[0m     \u001b[0mprint\u001b[0m\u001b[0;34m(\u001b[0m\u001b[0mtitle\u001b[0m\u001b[0;34m)\u001b[0m\u001b[0;34m\u001b[0m\u001b[0m\n\u001b[0;32m---> 10\u001b[0;31m     \u001b[0mlink\u001b[0m \u001b[0;34m=\u001b[0m \u001b[0mentry\u001b[0m\u001b[0;34m.\u001b[0m\u001b[0mfind\u001b[0m\u001b[0;34m(\u001b[0m\u001b[0;34m'div.title > a'\u001b[0m\u001b[0;34m,\u001b[0m \u001b[0mfirst\u001b[0m\u001b[0;34m=\u001b[0m\u001b[0;32mTrue\u001b[0m\u001b[0;34m)\u001b[0m\u001b[0;34m.\u001b[0m\u001b[0mattrs\u001b[0m\u001b[0;34m[\u001b[0m\u001b[0;34m'href'\u001b[0m\u001b[0;34m]\u001b[0m\u001b[0;34m\u001b[0m\u001b[0m\n\u001b[0m\u001b[1;32m     11\u001b[0m     \u001b[0mprint\u001b[0m\u001b[0;34m(\u001b[0m\u001b[0mlink\u001b[0m\u001b[0;34m)\u001b[0m\u001b[0;34m\u001b[0m\u001b[0m\n",
      "\u001b[0;31mAttributeError\u001b[0m: 'NoneType' object has no attribute 'attrs'"
     ]
    }
   ],
   "source": [
    "import requests\n",
    "from requests_html import HTML\n",
    "\n",
    "resp = requests.get('https://www.ptt.cc/bbs/movie/index.html')\n",
    "html = HTML(html=resp.text)\n",
    "post_entries = html.find('div.r-ent')\n",
    "for entry in post_entries:\n",
    "    title = entry.find('div.title', first=True).text\n",
    "    print(title)\n",
    "    link = entry.find('div.title > a', first=True).attrs['href']\n",
    "    print(link)"
   ]
  },
  {
   "cell_type": "code",
   "execution_count": 6,
   "metadata": {},
   "outputs": [
    {
     "name": "stdout",
     "output_type": "stream",
     "text": [
      "[爽無雷] 狂徒-我拜託你們進電影院看!!\n",
      "/bbs/movie/M.1540011223.A.140.html\n",
      "[新聞] 巧巧裸戰三級片 傻眼強國妞露毛求上位\n",
      "/bbs/movie/M.1540012795.A.C11.html\n",
      "[雷] 電影【請做我的主人】純粹地做愛吧\n",
      "/bbs/movie/M.1540014076.A.21C.html\n",
      "(本文已被刪除) [yslimit]\n",
      "has error\n"
     ]
    }
   ],
   "source": [
    "for entry in post_entries:\n",
    "    try:\n",
    "        title = entry.find('div.title', first=True).text\n",
    "        print(title)\n",
    "        link = entry.find('div.title > a', first=True).attrs['href']\n",
    "        print(link)\n",
    "    except AttributeError as e: #except Exception as e:\n",
    "        print('has error')\n",
    "        break"
   ]
  },
  {
   "cell_type": "markdown",
   "metadata": {},
   "source": [
    "### [re](http://www.runoob.com/python/python-reg-expressions.html)\n",
    "\n",
    "re.search(pattern, string, flags=0)\n",
    "\n",
    "|   參數  |  描述  |\n",
    "|---------|-------|\n",
    "| pattern | 匹配的正則表達式 |\n",
    "| string  | 要匹配的字符串 |\n",
    "| flags   | 標誌位，用於控制正則表達式的匹配方式，如：是否區分大小寫，多行匹配等等 |\n",
    "\n",
    "\n",
    "匹配成功 re.search 方法返回一個匹配的對象，否則返回 None。\n",
    "我們可以使用 group(num) 或 groups() 匹配對象函數來獲取匹配表達式。"
   ]
  },
  {
   "cell_type": "code",
   "execution_count": 13,
   "metadata": {},
   "outputs": [
    {
     "name": "stdout",
     "output_type": "stream",
     "text": [
      "[爽無雷] 狂徒-我拜託你們進電影院看!! mapery\n",
      "/bbs/movie/M.1540011223.A.140.html\n",
      "[新聞] 巧巧裸戰三級片 傻眼強國妞露毛求上位 deepdish\n",
      "/bbs/movie/M.1540012795.A.C11.html\n",
      "[雷] 電影【請做我的主人】純粹地做愛吧 ariel119\n",
      "/bbs/movie/M.1540014076.A.21C.html\n",
      "(本文已被刪除) [yslimit] -\n",
      "(9, 18)\n",
      "yslimit\n"
     ]
    }
   ],
   "source": [
    "import re\n",
    "\n",
    "for entry in post_entries:\n",
    "    try:\n",
    "        title = entry.find('div.title', first=True).text\n",
    "        author = entry.find('div.author', first=True).text\n",
    "        print(title, author)\n",
    "        link = entry.find('div.title > a', first=True).attrs['href']\n",
    "        print(link)\n",
    "    except AttributeError as e: #except Exception as e:\n",
    "        if '(本文已被刪除)' in title:\n",
    "            match_author = re.search('\\[(\\w*)\\]', title)\n",
    "            print(match_author.span())  # 在哪裡開始匹配\n",
    "            if match_author:\n",
    "                author = match_author.group(1)\n",
    "                print(author)\n",
    "            break\n",
    "        elif re.search('已被\\w*刪除', title):\n",
    "            match_author = re.search('\\<(\\w*)\\>', title)\n",
    "            if match_author:\n",
    "                author = match_author.group(1)"
   ]
  },
  {
   "cell_type": "markdown",
   "metadata": {},
   "source": [
    "### 稍做解釋正則表達式\n",
    "(本文已被刪除) [yslimit] \n",
    "\n",
    "`re.search('\\[(\\w*)\\]', title)` \n",
    "\n",
    "`\\[`, `(\\w*)` 分開成第二 group 取得裡面 word 最後結尾 `\\[`"
   ]
  },
  {
   "cell_type": "markdown",
   "metadata": {},
   "source": [
    "有篇簡單抓地址的[範例](https://ithelp.ithome.com.tw/articles/10197315)"
   ]
  }
 ],
 "metadata": {
  "kernelspec": {
   "display_name": "Python 3",
   "language": "python",
   "name": "python3"
  },
  "language_info": {
   "codemirror_mode": {
    "name": "ipython",
    "version": 3
   },
   "file_extension": ".py",
   "mimetype": "text/x-python",
   "name": "python",
   "nbconvert_exporter": "python",
   "pygments_lexer": "ipython3",
   "version": "3.6.2"
  }
 },
 "nbformat": 4,
 "nbformat_minor": 2
}
