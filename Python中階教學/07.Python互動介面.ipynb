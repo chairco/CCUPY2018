{
 "cells": [
  {
   "cell_type": "markdown",
   "metadata": {},
   "source": [
    "# Python中階-互動介面\n",
    "\n",
    "\n",
    "## 中正大學資管系 (20181021) 大綱\n",
    "\n",
    "一個簡單的 command line interface (命令列介面)模式"
   ]
  },
  {
   "cell_type": "code",
   "execution_count": 2,
   "metadata": {},
   "outputs": [
    {
     "name": "stdout",
     "output_type": "stream",
     "text": [
      "隨便輸入一個數字或字串:1\n"
     ]
    }
   ],
   "source": [
    "a = input('隨便輸入一個數字或字串:')"
   ]
  },
  {
   "cell_type": "code",
   "execution_count": 3,
   "metadata": {},
   "outputs": [
    {
     "data": {
      "text/plain": [
       "(str, '1')"
      ]
     },
     "execution_count": 3,
     "metadata": {},
     "output_type": "execute_result"
    }
   ],
   "source": [
    "type(a), a"
   ]
  },
  {
   "cell_type": "code",
   "execution_count": 5,
   "metadata": {},
   "outputs": [
    {
     "name": "stdout",
     "output_type": "stream",
     "text": [
      "隨便輸入一個數字:str\n"
     ]
    },
    {
     "ename": "ValueError",
     "evalue": "invalid literal for int() with base 10: 'str'",
     "output_type": "error",
     "traceback": [
      "\u001b[0;31m---------------------------------------------------------------------------\u001b[0m",
      "\u001b[0;31mValueError\u001b[0m                                Traceback (most recent call last)",
      "\u001b[0;32m<ipython-input-5-e140ba2ba163>\u001b[0m in \u001b[0;36m<module>\u001b[0;34m()\u001b[0m\n\u001b[0;32m----> 1\u001b[0;31m \u001b[0ma\u001b[0m \u001b[0;34m=\u001b[0m \u001b[0mint\u001b[0m\u001b[0;34m(\u001b[0m\u001b[0minput\u001b[0m\u001b[0;34m(\u001b[0m\u001b[0;34m'隨便輸入一個數字:'\u001b[0m\u001b[0;34m)\u001b[0m\u001b[0;34m)\u001b[0m\u001b[0;34m\u001b[0m\u001b[0m\n\u001b[0m",
      "\u001b[0;31mValueError\u001b[0m: invalid literal for int() with base 10: 'str'"
     ]
    }
   ],
   "source": [
    "a = int(input('隨便輸入一個數字:'))"
   ]
  },
  {
   "cell_type": "code",
   "execution_count": 6,
   "metadata": {},
   "outputs": [
    {
     "name": "stdout",
     "output_type": "stream",
     "text": [
      "隨便輸入一個數字:1\n"
     ]
    }
   ],
   "source": [
    "a = int(input('隨便輸入一個數字:'))"
   ]
  },
  {
   "cell_type": "code",
   "execution_count": 7,
   "metadata": {},
   "outputs": [
    {
     "data": {
      "text/plain": [
       "(int, 1)"
      ]
     },
     "execution_count": 7,
     "metadata": {},
     "output_type": "execute_result"
    }
   ],
   "source": [
    "type(a), a"
   ]
  },
  {
   "cell_type": "markdown",
   "metadata": {},
   "source": [
    "## [click](https://click.palletsprojects.com/en/7.x/)\n",
    "\n",
    "![](images/click-logo.png)\n",
    "\n",
    "Click is a Python package for creating beautiful command line interfaces in a composable way with as little code as necessary. It’s the “Command Line Interface Creation Kit”. It’s highly configurable but comes with sensible defaults out of the box."
   ]
  },
  {
   "cell_type": "markdown",
   "metadata": {},
   "source": [
    "```python\n",
    "import click\n",
    "\n",
    "@click.command()\n",
    "@click.option('--count', default=1, help='Number of greetings.')\n",
    "@click.option('--name', prompt='Your name',\n",
    "              help='The person to greet.')\n",
    "def hello(count, name):\n",
    "    \"\"\"Simple program that greets NAME for a total of COUNT times.\"\"\"\n",
    "    for x in range(count):\n",
    "        click.echo('Hello %s!' % name)\n",
    "        \n",
    "\n",
    "if __name__ == '__main__':\n",
    "    hello()\n",
    "```"
   ]
  },
  {
   "cell_type": "markdown",
   "metadata": {},
   "source": [
    "```shell\n",
    "$ python hello.py --count=3\n",
    "Your name: John\n",
    "Hello John!\n",
    "Hello John!\n",
    "Hello John!\n",
    "```"
   ]
  },
  {
   "cell_type": "markdown",
   "metadata": {},
   "source": [
    "```shell\n",
    "$ python hello.py --help\n",
    "Usage: hello.py [OPTIONS]\n",
    "\n",
    "  Simple program that greets NAME for a total of COUNT times.\n",
    "\n",
    "Options:\n",
    "  --count INTEGER  Number of greetings.\n",
    "  --name TEXT      The person to greet.\n",
    "  --help           Show this message and exit.\n",
    "```"
   ]
  },
  {
   "cell_type": "markdown",
   "metadata": {},
   "source": [
    "提醒: 在程式一開始請記得輸入 `#-*- coding: utf-8 -*-` 告訴直譯器這個程式要用 utf-8 編碼，不然預設會用 ASCII 數入中文可能會錯誤。[參考](http://www.runoob.com/python/python-chinese-encoding.html)"
   ]
  },
  {
   "cell_type": "markdown",
   "metadata": {},
   "source": [
    "## 目標\n",
    "\n",
    "建立一個互動介面，流程如下:\n",
    "\n",
    "1. 列出首頁[所有版](https://www.ptt.cc/bbs/index.html)\n",
    "2. 選擇要爬那個版(可以要使用者輸入版面名稱不用分大小寫或是給一個`數字`給使用者輸入)\n",
    "    - 2.1 輸入錯誤就會跳回選擇要爬哪個版的介面\n",
    "    - 2.2 輸入 exit 跳出\n",
    "3. 選擇要爬幾頁\n",
    "4. 列出所有文章後跳出"
   ]
  },
  {
   "cell_type": "code",
   "execution_count": null,
   "metadata": {},
   "outputs": [],
   "source": []
  },
  {
   "cell_type": "markdown",
   "metadata": {},
   "source": [
    "### 進階目標\n",
    "\n",
    "把原本的程式改成物件導向"
   ]
  },
  {
   "cell_type": "code",
   "execution_count": null,
   "metadata": {},
   "outputs": [],
   "source": []
  }
 ],
 "metadata": {
  "kernelspec": {
   "display_name": "Python 3",
   "language": "python",
   "name": "python3"
  },
  "language_info": {
   "codemirror_mode": {
    "name": "ipython",
    "version": 3
   },
   "file_extension": ".py",
   "mimetype": "text/x-python",
   "name": "python",
   "nbconvert_exporter": "python",
   "pygments_lexer": "ipython3",
   "version": "3.6.2"
  }
 },
 "nbformat": 4,
 "nbformat_minor": 2
}
