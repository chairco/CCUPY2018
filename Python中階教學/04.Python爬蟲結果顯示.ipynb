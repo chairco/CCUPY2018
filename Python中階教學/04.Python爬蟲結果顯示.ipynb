{
 "cells": [
  {
   "cell_type": "markdown",
   "metadata": {},
   "source": [
    "# Python中階-讓爬蟲顯示得更美好\n",
    "\n",
    "\n",
    "## 中正大學資管系 (20181021) 大綱\n",
    "\n",
    "完成了爬蟲主程式，接著要怎樣讓顯示畫面更漂亮？下面我們使用一些格式化設定讓畫面顯示起來更好看\n",
    "\n",
    "+ 優化顯示前\n",
    "+ 優化顯示準備工作\n",
    "+ 讓顯示更美好"
   ]
  },
  {
   "cell_type": "markdown",
   "metadata": {},
   "source": [
    "## 優化顯示前\n",
    "\n",
    "回到剛剛程式，在尚未優化顯示我們試用一個 `dict` 的資料結構接著印出，但的確不是很好看。因此這段我們將讓爬蟲印出的訊息更漂亮一些。\n",
    "如果有興趣可以看一些這篇的[字元寬度處理](https://github.com/urwid/urwid/blob/master/urwid/old_str_util.py)"
   ]
  },
  {
   "cell_type": "code",
   "execution_count": 2,
   "metadata": {},
   "outputs": [
    {
     "name": "stdout",
     "output_type": "stream",
     "text": [
      "{'title': '[公告] 水桶公告 20181017', 'push': '2', 'date': '10/17', 'author': 'VOT1077'}\n",
      "{'title': '[新聞] 登陸月球50年《電影哆啦A夢 大雄的月球探', 'push': '3', 'date': '10/17', 'author': 'hoanbeh'}\n",
      "{'title': 'Re: [贈票] 【極智對決】 台北贈票', 'push': '14', 'date': '10/17', 'author': 'rapsd520'}\n",
      "{'title': '新聞文章請以新發文方式-V <Reewalker>', 'push': '', 'date': '10/17', 'author': '-'}\n",
      "{'title': '[請益] 李小龍傳', 'push': '4', 'date': '10/17', 'author': 'hsinofkids'}\n",
      "{'title': '[討論] 最經典的系列作有哪些', 'push': '4', 'date': '10/17', 'author': 'assggy'}\n",
      "{'title': '[新聞] 重建熱蘭遮城將投入135億 魏德聖：2024', 'push': '58', 'date': '10/17', 'author': 'purue'}\n",
      "{'title': '[贈票] 極智對決 週六台北贈票', 'push': '', 'date': '10/17', 'author': 'WAV'}\n",
      "{'title': '[情報] 2018 亞太銀幕獎 入圍名單', 'push': '', 'date': '10/17', 'author': 'qpr322'}\n",
      "{'title': '[問片] 孕婦車禍流產，找人復仇的血腥片', 'push': '3', 'date': '10/17', 'author': 'shuffling'}\n",
      "{'title': '[新聞] 華倫夫婦加入《安娜貝爾3》', 'push': '4', 'date': '10/17', 'author': 'shengchiu303'}\n",
      "{'title': '[版規] 電影版版規 201808', 'push': '1', 'date': '8/28', 'author': 'VOT1077'}\n",
      "{'title': '[公告] 電影版板規修訂說明', 'push': '', 'date': '8/28', 'author': 'VOT1077'}\n",
      "{'title': '[公告] 關於特定影片負(好)雷討論', 'push': '33', 'date': '10/11', 'author': 'VOT1077'}\n"
     ]
    }
   ],
   "source": [
    "import requests\n",
    "from requests_html import HTML\n",
    "\n",
    "\n",
    "def fetch(url):\n",
    "    response = requests.get(url)\n",
    "    return response\n",
    "\n",
    "\n",
    "def parser_article_meta(entry):\n",
    "    context = {\n",
    "        'title': entry.find('div.title', first=True).text,\n",
    "        'push': entry.find('div.nrec', first=True).text,\n",
    "        'date': entry.find('div.date', first=True).text,\n",
    "        'author': entry.find('div.author', first=True).text,\n",
    "    }\n",
    "    return context\n",
    "\n",
    "\n",
    "def main():\n",
    "    resp = fetch(url='https://www.ptt.cc/bbs/movie/index.html')\n",
    "    if resp.status_code == 200:\n",
    "        html = HTML(html=resp.text)\n",
    "        post_entries = html.find('div.r-ent')\n",
    "\n",
    "        for entry in post_entries:\n",
    "            meta = parser_article_meta(entry)\n",
    "            print(meta)\n",
    "    else:\n",
    "        print(resp.status_code)\n",
    "\n",
    "if __name__ == '__main__':\n",
    "    main()"
   ]
  },
  {
   "cell_type": "markdown",
   "metadata": {},
   "source": [
    "## 優化顯示準備工作\n",
    "\n",
    "+ 格式化寬度，讓顯示畫面項 ptt 原本樣子\n",
    "+ 建立一個格式化畫面的函式\n",
    "+ 將爬取的內容帶入"
   ]
  },
  {
   "cell_type": "code",
   "execution_count": 2,
   "metadata": {},
   "outputs": [
    {
     "name": "stdout",
     "output_type": "stream",
     "text": [
      "學號\t姓名\t語文\t數學\t英語\n",
      "2017001\t曹操\t99\t88\t\t0\n",
      "2017002\t周瑜\t92\t45\t\t93\n",
      "2017008\t黃蓋\t77\t82\t\t100\n"
     ]
    }
   ],
   "source": [
    "print(\"學號\\t姓名\\t語文\\t數學\\t英語\")\n",
    "print(\"2017001\\t曹操\\t99\\t88\\t\\t0\")\n",
    "print(\"2017002\\t周瑜\\t92\\t45\\t\\t93\")\n",
    "print(\"2017008\\t黃蓋\\t77\\t82\\t\\t100\")"
   ]
  },
  {
   "cell_type": "code",
   "execution_count": 3,
   "metadata": {},
   "outputs": [],
   "source": [
    "widths = [\n",
    "        (126,    1), (159,    0), (687,     1), (710,   0), (711,   1),\n",
    "        (727,    0), (733,    1), (879,     0), (1154,  1), (1161,  0),\n",
    "        (4347,   1), (4447,   2), (7467,    1), (7521,  0), (8369,  1),\n",
    "        (8426,   0), (9000,   1), (9002,    2), (11021, 1), (12350, 2),\n",
    "        (12351,  1), (12438,  2), (12442,   0), (19893, 2), (19967, 1),\n",
    "        (55203,  2), (63743,  1), (64106,   2), (65039, 1), (65059, 0),\n",
    "        (65131,  2), (65279,  1), (65376,   2), (65500, 1), (65510, 2),\n",
    "        (120831, 1), (262141, 2), (1114109, 1),\n",
    "]"
   ]
  },
  {
   "cell_type": "code",
   "execution_count": 4,
   "metadata": {},
   "outputs": [],
   "source": [
    "def calc_len(string):\n",
    "    def chr_width(o):\n",
    "        global widths\n",
    "        if o == 0xe or o == 0xf:\n",
    "            return 0\n",
    "        for num, wid in widths:\n",
    "            if o <= num:\n",
    "                return wid\n",
    "        return 1\n",
    "    return sum(chr_width(ord(c)) for c in string)"
   ]
  },
  {
   "cell_type": "code",
   "execution_count": 5,
   "metadata": {},
   "outputs": [],
   "source": [
    "def pretty_print(push, title, date, author):\n",
    "    pattern = '%3s\\t%s%s%s\\t%s'\n",
    "    padding = ' ' * (50 - calc_len(title))\n",
    "    print(pattern % (push, title, padding, date, author))"
   ]
  },
  {
   "cell_type": "markdown",
   "metadata": {},
   "source": [
    "## 讓顯示更美好\n",
    "\n",
    "接著可能需要做一些原本程式的修改。因為原本建立一個 `main()` 函式來印出結果，但目前在印出前要做些處理，所以我們要修改一下，用 `pretty_print` 這個新的 function 來取代原本的 `print` function"
   ]
  },
  {
   "cell_type": "code",
   "execution_count": 6,
   "metadata": {},
   "outputs": [
    {
     "name": "stdout",
     "output_type": "stream",
     "text": [
      "  2\t[公告] 水桶公告 20181017                          10/17\tVOT1077\n",
      "  3\t[新聞] 登陸月球50年《電影哆啦A夢 大雄的月球探     10/17\thoanbeh\n",
      " 14\tRe: [贈票] 【極智對決】 台北贈票                  10/17\trapsd520\n",
      "   \t新聞文章請以新發文方式-V <Reewalker>              10/17\t-\n",
      "  4\t[請益] 李小龍傳                                   10/17\thsinofkids\n",
      "  4\t[討論] 最經典的系列作有哪些                       10/17\tassggy\n",
      " 58\t[新聞] 重建熱蘭遮城將投入135億 魏德聖：2024       10/17\tpurue\n",
      "  1\t[贈票] 極智對決 週六台北贈票                      10/17\tWAV\n",
      "   \t[情報] 2018 亞太銀幕獎 入圍名單                   10/17\tqpr322\n",
      "  3\t[問片] 孕婦車禍流產，找人復仇的血腥片             10/17\tshuffling\n",
      "  6\t[新聞] 華倫夫婦加入《安娜貝爾3》                  10/17\tshengchiu303\n",
      "   \t[資訊]2018新北市影視人才培育課程結訓儀式          10/17\tunalaba\n",
      "   \t[片單] 類似上海灘賭聖一片兩拍的電影?              10/17\tMarchosias\n",
      "   \t[討論] 王家衛真喜歡用劇組人員的名字               10/17\tjoey0602\n",
      "  1\t[版規] 電影版版規 201808                          8/28\tVOT1077\n",
      "   \t[公告] 電影版板規修訂說明                         8/28\tVOT1077\n",
      " 33\t[公告] 關於特定影片負(好)雷討論                   10/11\tVOT1077\n"
     ]
    }
   ],
   "source": [
    "def main():\n",
    "    resp = fetch(url='https://www.ptt.cc/bbs/movie/index.html')\n",
    "    if resp.status_code == 200:\n",
    "        html = HTML(html=resp.text)\n",
    "        post_entries = html.find('div.r-ent')\n",
    "\n",
    "        for entry in post_entries:\n",
    "            meta = parser_article_meta(entry)\n",
    "            pretty_print(meta['push'], meta['title'], meta['date'], meta['author']) #取代的地方\n",
    "    else:\n",
    "        print(resp.status_code)\n",
    "\n",
    "if __name__ == '__main__':\n",
    "    main()"
   ]
  },
  {
   "cell_type": "markdown",
   "metadata": {},
   "source": [
    "有沒有更完整了呢？"
   ]
  }
 ],
 "metadata": {
  "kernelspec": {
   "display_name": "Python 3",
   "language": "python",
   "name": "python3"
  },
  "language_info": {
   "codemirror_mode": {
    "name": "ipython",
    "version": 3
   },
   "file_extension": ".py",
   "mimetype": "text/x-python",
   "name": "python",
   "nbconvert_exporter": "python",
   "pygments_lexer": "ipython3",
   "version": "3.6.2"
  }
 },
 "nbformat": 4,
 "nbformat_minor": 2
}
