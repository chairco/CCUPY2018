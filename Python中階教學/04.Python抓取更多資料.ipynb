{
 "cells": [
  {
   "cell_type": "markdown",
   "metadata": {},
   "source": [
    "# Python中階-爬取更多資料\n",
    "\n",
    "\n",
    "## 中正大學資管系 (20181021) 大綱\n",
    "\n",
    "咦，內容不只有一頁啊？我要怎麼爬更多內容的資料呢？"
   ]
  },
  {
   "cell_type": "markdown",
   "metadata": {},
   "source": [
    "## 上一頁、下一頁的按鈕分析\n",
    "\n",
    "連入 ptt web 有很多頁面，但以剛剛例子只進入了最新的那個頁面，如果今天要寫一個聰明的爬蟲或許要做一個更彈性化的功能，讓爬蟲可以進入更多頁面取的更多的訊息。首先起手式還是要分析網頁結構。\n",
    "\n",
    "![](images/CHROME3.png)\n",
    "\n",
    "可以發現上一頁這個按鈕後面就很清楚的顯示`上一頁`網址的名稱，這不是太棒了嗎？(有人會問為什麼只有上一頁？下一頁內容是空白，那是因為版面的首頁就是最新的一頁呀)"
   ]
  },
  {
   "cell_type": "code",
   "execution_count": 2,
   "metadata": {},
   "outputs": [],
   "source": [
    "import requests\n",
    "from requests_html import HTML\n",
    "\n",
    "url = 'https://www.ptt.cc/bbs/movie/index.html'\n",
    "resp = requests.get(url)"
   ]
  },
  {
   "cell_type": "code",
   "execution_count": 4,
   "metadata": {},
   "outputs": [
    {
     "data": {
      "text/plain": [
       "[<Element 'a' class=('btn', 'wide') href='/bbs/movie/index1.html'>,\n",
       " <Element 'a' class=('btn', 'wide') href='/bbs/movie/index7200.html'>,\n",
       " <Element 'a' class=('btn', 'wide', 'disabled')>,\n",
       " <Element 'a' class=('btn', 'wide') href='/bbs/movie/index.html'>]"
      ]
     },
     "execution_count": 4,
     "metadata": {},
     "output_type": "execute_result"
    }
   ],
   "source": [
    "html = HTML(html=resp.text)\n",
    "pages = html.find('.action-bar a.btn.wide')\n",
    "pages #這個元素的標籤共有四個值，我們要取 index= 1 的才是上一頁，所以我們要把裡面的 href 取出來"
   ]
  },
  {
   "cell_type": "code",
   "execution_count": 6,
   "metadata": {},
   "outputs": [
    {
     "data": {
      "text/plain": [
       "'/bbs/movie/index7200.html'"
      ]
     },
     "execution_count": 6,
     "metadata": {},
     "output_type": "execute_result"
    }
   ],
   "source": [
    "link = pages[1].attrs.get('href')\n",
    "link"
   ]
  },
  {
   "cell_type": "markdown",
   "metadata": {},
   "source": [
    "## 如何把網址做結合\n",
    "\n",
    "大家會發現我們取出的網址只有相對路徑，其實這在網站中很常見，意思是在這個超連結都是這個頁面相對於這個網站位置，類似\n",
    "```\n",
    "root--\n",
    "      |\n",
    "      a---\n",
    "          |\n",
    "          a1.html\n",
    "      b---\n",
    "          |\n",
    "          b1.html\n",
    "          \n",
    "root/a/a1.html\n",
    "root/b/b1.html\n",
    "```\n",
    "為什麼，其實這很好解釋維護的問題。如果每個超連結都是給完整位置，改天網站 root 改名了那所有的頁面就要改掉了，所以都會用相對路徑來表示\n",
    "因此必須要我們手動還原這個網址，才能透過 `get` 方式讀到，所以我們使用到 `split()` 大絕招，把網址從 `/bbs` 直接切一半，然後把剛剛我們取出的連結位置做結合"
   ]
  },
  {
   "cell_type": "code",
   "execution_count": 9,
   "metadata": {},
   "outputs": [
    {
     "data": {
      "text/plain": [
       "'https://www.ptt.cc/bbs/movie/index7200.html'"
      ]
     },
     "execution_count": 9,
     "metadata": {},
     "output_type": "execute_result"
    }
   ],
   "source": [
    "next_page = resp.url.split('/bbs')[0] + link\n",
    "next_page"
   ]
  },
  {
   "cell_type": "markdown",
   "metadata": {},
   "source": [
    "但這個方法也有缺陷，因為哪天邏輯不是這樣時大概就會出現 `bug`，因此另一個比較乾淨做法是針對 next_page 使用一個新邏輯，這會用到 urlib 這個套件"
   ]
  },
  {
   "cell_type": "code",
   "execution_count": 19,
   "metadata": {},
   "outputs": [
    {
     "data": {
      "text/plain": [
       "'https://www.ptt.cc/bbs/movie/index7200.html'"
      ]
     },
     "execution_count": 19,
     "metadata": {},
     "output_type": "execute_result"
    }
   ],
   "source": [
    "import urllib\n",
    "domain = 'https://www.ptt.cc/'\n",
    "next_page = urllib.parse.urljoin(domain, link)\n",
    "next_page"
   ]
  },
  {
   "cell_type": "markdown",
   "metadata": {},
   "source": [
    "## 建立一個函式來爬所有資料\n",
    "\n",
    "如果成功完成這件事，那把它獨立成一個 function，未來應該就能夠重複利用，但原本程式是設計爬取單一個頁面，所以我們還要修改程式讓主程式能夠確定要爬多少頁\n",
    "\n",
    "+ 建立函式來取的下一頁\n",
    "+ 爬蟲主程式根據參數，循序爬取所有頁面"
   ]
  },
  {
   "cell_type": "code",
   "execution_count": 22,
   "metadata": {
    "scrolled": true
   },
   "outputs": [
    {
     "data": {
      "text/plain": [
       "'https://www.ptt.cc/bbs/movie/index7200.html'"
      ]
     },
     "execution_count": 22,
     "metadata": {},
     "output_type": "execute_result"
    }
   ],
   "source": [
    "def parser_next_page(resp):\n",
    "    html = HTML(html=resp.text)\n",
    "    pages = html.find('.action-bar a.btn.wide')\n",
    "    link = pages[1].attrs.get('href')\n",
    "    next_page = urllib.parse.urljoin(domain, link)\n",
    "    return next_page\n",
    "\n",
    "parser_next_page(resp)"
   ]
  },
  {
   "cell_type": "code",
   "execution_count": 27,
   "metadata": {},
   "outputs": [
    {
     "name": "stdout",
     "output_type": "stream",
     "text": [
      "第1頁, https://www.ptt.cc/bbs/movie/index.html\n",
      "  2\t[公告] 水桶公告 20181017                          10/17\tVOT1077\n",
      "  4\t[新聞] 登陸月球50年《電影哆啦A夢 大雄的月球探     10/17\thoanbeh\n",
      " 17\tRe: [贈票] 【極智對決】 台北贈票                  10/17\trapsd520\n",
      "   \t新聞文章請以新發文方式-V <Reewalker>              10/17\t-\n",
      "  4\t[請益] 李小龍傳                                   10/17\thsinofkids\n",
      "  8\t[討論] 最經典的系列作有哪些                       10/17\tassggy\n",
      " 75\t[新聞] 重建熱蘭遮城將投入135億 魏德聖：2024       10/17\tpurue\n",
      "  2\t[贈票] 極智對決 週六台北贈票                      10/17\tWAV\n",
      "  1\t[情報] 2018 亞太銀幕獎 入圍名單                   10/17\tqpr322\n",
      "  4\t[問片] 孕婦車禍流產，找人復仇的血腥片             10/17\tshuffling\n",
      " 23\t[新聞] 華倫夫婦加入《安娜貝爾3》                  10/17\tshengchiu303\n",
      "   \t[資訊]2018新北市影視人才培育課程結訓儀式          10/17\tunalaba\n",
      "  6\t[片單] 類似上海灘賭聖一片兩拍的電影?              10/17\tMarchosias\n",
      " 10\t[討論] 王家衛真喜歡用劇組人員的名字               10/17\tjoey0602\n",
      "  2\t[討論] 和家人看電影時看到激情的場面？             10/17\tpully37\n",
      "  1\t[版規] 電影版版規 201808                          8/28\tVOT1077\n",
      "   \t[公告] 電影版板規修訂說明                         8/28\tVOT1077\n",
      " 33\t[公告] 關於特定影片負(好)雷討論                   10/11\tVOT1077\n",
      "第2頁, https://www.ptt.cc/bbs/movie/index7200.html\n",
      "   \tRe: [無上雷] 神神神!!!!!!智商壓制神作頂尖對決     10/16\ttontontonni\n",
      "   \t[新聞] 【交友網戰】呈現創業者必看心機「攻鬥」     10/16\tkkaicd1\n",
      "  2\tRe: [普雷]《貞子VS伽椰子》：學姊大戰學妹          10/16\tDingLey\n",
      "  1\t[普好雷] 滴答屋                                   10/16\tm19871006\n",
      "  爆\t[討論] 讓人感到氣勢磅礡的電影配樂                 10/16\tjodawa\n",
      "  7\t[問片] 同事感情受挫 被發好人卡當工具人 推薦?      10/16\tiamsolotrave\n",
      "   \t[負雷] 《厲可拍》一台在手性命我有                 10/16\tbestbamboo\n",
      " 13\t[影評] 聞天祥評 / 一個巨星的誕生                  10/16\tMyAll\n",
      "  8\t[討論]friday影音30天序號                          10/16\tyangyang3\n",
      "  1\t[問片] 男女主人將房子分一半裝潢                   10/16\tManaku\n",
      " 14\t[普雷] 《月光光新慌慌》試片會無雷心得             10/17\trosebyrne\n",
      "  1\t[片單] 有類似離奇劇院的片嗎                       10/17\tmalaman\n",
      "  4\t[問片] 請問一個主角是盲女的電影                   10/17\tffreakk\n",
      " 45\t[討論] 有人聲稱看過復仇者聯盟4的預告              10/17\tm2017\n",
      "  7\t[神雷] 畢業生 The Graduate                        10/17\tk9120303\n",
      "  3\t[好雷] A star is born 一個巨星的誕生              10/17\tas22563\n",
      "  2\t[好雷] 濃情酒鄉 Ce qui nous lie，葡園之心         10/17\tmysmalllamb\n",
      "  2\t[好雷] 電影【檢方的罪人】 劇情選角皆優            10/17\tariel119\n",
      "  1\t[問片] 一個父親照顧自己孩子跟他同學的片           10/17\tJL87522\n",
      "   \t[新聞] 身家無30億勿入　《億萬男孩俱樂部》高富     10/17\tpipiboygay\n",
      "第3頁, https://www.ptt.cc/bbs/movie/index7199.html\n",
      " 22\tRe: [討論] 配樂是不是進入黑暗時代                 10/16\toberonz\n",
      "  4\t[好雷] 猛毒の美食饗宴                             10/16\tACGUYKING\n",
      "  爆\tRe: [贈票] 【極智對決】 台北贈票                  10/16\trapsd520\n",
      "  爆\t[片單] 請推薦結局逆轉的片                         10/16\tLeeptt\n",
      " 10\t[問片] 女主角耗費一生養男友，卻無法嚐甜果         10/16\tBIGHLU\n",
      "   \t(本文已被刪除) [lcw0622]                          10/16\t-\n",
      "  2\t[情報] iTunes特價報 朱花之月 / 京城81號 / 弒訊    10/16\tktou545\n",
      "  1\t[好雷] 人肉搜索searching - so cool.               10/16\tzzauber\n",
      " X2\tRe: [新聞] 金秀賢揭露巨蛇「娜吉尼」試鏡過程　導演 10/16\ttontontonni\n",
      " 16\t[討論] 金馬完整片單來了                           10/16\tculturesky\n",
      " 33\t[討論] 今年的金馬國際影展                         10/16\ttieamonk\n",
      " 16\t[討論］一個巨星的誕生票房冠軍                     10/16\tyslimit\n",
      "  5\t[普雷] 一個巨星的誕生                             10/16\tjhg0405\n",
      "  6\t[請益] 這張照片的發哥(周潤發)是哪部電影的?        10/16\tEmerson158\n",
      "  爆\t[討論] 心目中鬼才導演                             10/16\tlnln\n",
      "  1\t[問片] 殺人魔追殺到停屍間(已解決)                 10/16\tyoyowoolala\n",
      "   \t版規2 無關電影政治內容 <tiara>                    10/16\t-\n",
      "  9\t[負雷] 讓人失望的角頭2                            10/16\tbelief0816\n",
      "   \t(本文已被刪除) [bbbyes123]                        10/16\t-\n",
      "  9\t[討論] 重拍中片「毒戰」的韓片——「信徒」           10/16\thwangdf\n",
      "第4頁, https://www.ptt.cc/bbs/movie/index7198.html\n",
      "  8\t[請益] 哪裡看得到1978年的《月光光心慌慌》？       10/15\tourstage\n",
      "  1\t[普雷]《劇場靈》純潔與慾望的抗爭                  10/15\tmoonylee\n",
      "   \t[好雷] 漢娜的失序人生                             10/16\tMorbert\n",
      "  4\tRe: [討論] 配樂是不是進入黑暗時代                 10/16\tbbs32173\n",
      "   \t[情報] 2018 廣播影評人協會紀錄片獎 入圍名單       10/16\tqpr322\n",
      "  4\tRe: [片單] 壓迫感很重的配曲                       10/16\tasxc1224\n",
      " X5\t[討論] 有人看\"快速看完電影\"影片 就回不去了嗎?     10/16\tiamsolotrave\n",
      "  2\t[新聞] 籌資拍片爆糾紛，新導演告目擊者編劇         10/16\tBeandou\n",
      "  6\t[請益] 極樂宿舍裡 極樂爸的一句話                  10/16\tDarkMooon\n",
      " 43\t[討論] 關於海邊的曼徹斯特男主角的演技             10/16\tminamix\n",
      "   \tRe: [請益] 韓片【青蛙少年失蹤事件】的一些問題     10/16\tCapufish\n",
      "   \tRe: [負雷] 一屍到底之我到底看了什麼?!!            10/16\tprawinra\n",
      "  2\t[新聞] 【L.A.專訪】原班人馬回歸！《月光光》       10/16\tpipiboygay\n",
      " X1\t[無上雷] 神神神!!!!!!智商壓制神作頂尖對決         10/16\tyang560831\n",
      " 12\t[請益] 復仇者三與原著設定的疑問 (超級大雷)        10/16\tmatonw\n",
      " 31\t[討論] 《綜藝》報導閃電俠電影新動向               10/16\talljerry04\n",
      "  2\t[公告] 水桶公告 20181016                          10/16\tVOT1077\n",
      "  4\t[ 好雷] 《誰先愛上他的》小三小王大亂鬥            10/16\tsodaeric\n",
      "   \t[好雷]猛龍怪客Death Wish                          10/16\tueiwei\n",
      " 72\t[新聞] 《湯姆貓與傑利鼠》將拍真人版電影           10/16\tqpr322\n",
      "第5頁, https://www.ptt.cc/bbs/movie/index7197.html\n",
      "  爆\t[贈票] 厭世才子【快樂王子：王爾德】直送電影票     10/15\tmesut\n",
      "  3\t[普雷] 一個巨星的誕生                             10/15\tvalkyriea\n",
      "  6\t[新聞] 《哆啦A夢》明年登月探測　大叔部長驚喜      10/15\tpipiboygay\n",
      " 36\tRe: [普雷] 一個巨星的誕生                         10/15\tglacierl\n",
      " X1\t[討論] 【猛毒】我想看的是限制級猛毒啊啊 部長      10/15\tkem0606\n",
      " 12\t[討論] 30年過去了為何沒有空戰片能超越Top Gun      10/15\tNuCat\n",
      "  爆\t[片單] 兩個人之間宿命的對決電影求推薦             10/15\tlongkiss0618\n",
      " 14\t[請益] 『黑色追緝令』看不懂的哏                   10/15\tmanicured\n",
      "  7\t[討論] myVideo購片買一送一 買哪部片比較值得？     10/15\tseesawme\n",
      " 13\t[新聞] 木村拓哉主演「檢方的罪人」 法界首映場佳評如潮10/15\torz44444\n",
      " 13\t[普雷] 國家寶藏──尋寶要從大處著手                 10/15\twabu\n",
      "  爆\t[片單] 讓你落淚的道歉片段                         10/15\ts12457845\n",
      "   \t(本文已被刪除) [KGB10409]                         10/15\t-\n",
      " 57\t[負雷] 明天,我要跟昨天的你約會                    10/15\tJthreesmall\n",
      "   \t[情報] 竹北或者書店《路邊野餐》放映               10/15\twen113717\n",
      "  7\t[討論] 寒戰2 疑問 有雷                            10/15\tbasketba11\n",
      "  5\t[雷] 咖啡冷掉心得                                 10/15\tLeeptt\n",
      "  3\t[好雷] 一個巨星的誕生－還記得，你看我的最後       10/15\ttwoquarters\n",
      "  6\t[問片] 某部看得到人往生後做最習慣事情的鬼片       10/15\tjasmoine7\n",
      " 42\t[片單] 經典「聚焦」鏡頭                           10/15\tjlz44228\n"
     ]
    }
   ],
   "source": [
    "widths = [\n",
    "        (126,    1), (159,    0), (687,     1), (710,   0), (711,   1),\n",
    "        (727,    0), (733,    1), (879,     0), (1154,  1), (1161,  0),\n",
    "        (4347,   1), (4447,   2), (7467,    1), (7521,  0), (8369,  1),\n",
    "        (8426,   0), (9000,   1), (9002,    2), (11021, 1), (12350, 2),\n",
    "        (12351,  1), (12438,  2), (12442,   0), (19893, 2), (19967, 1),\n",
    "        (55203,  2), (63743,  1), (64106,   2), (65039, 1), (65059, 0),\n",
    "        (65131,  2), (65279,  1), (65376,   2), (65500, 1), (65510, 2),\n",
    "        (120831, 1), (262141, 2), (1114109, 1),\n",
    "]\n",
    "\n",
    "\n",
    "def calc_len(string):\n",
    "    def chr_width(o):\n",
    "        global widths\n",
    "        if o == 0xe or o == 0xf:\n",
    "            return 0\n",
    "        for num, wid in widths:\n",
    "            if o <= num:\n",
    "                return wid\n",
    "        return 1\n",
    "    return sum(chr_width(ord(c)) for c in string)\n",
    "\n",
    "\n",
    "def pretty_print(push, title, date, author):\n",
    "    pattern = '%3s\\t%s%s%s\\t%s'\n",
    "    padding = ' ' * (50 - calc_len(title))\n",
    "    print(pattern % (push, title, padding, date, author))\n",
    "\n",
    "\n",
    "def fetch(url):\n",
    "    response = requests.get(url)\n",
    "    return response\n",
    "\n",
    "\n",
    "def parser_article_meta(entry):\n",
    "    context = {\n",
    "        'title': entry.find('div.title', first=True).text,\n",
    "        'push': entry.find('div.nrec', first=True).text,\n",
    "        'date': entry.find('div.date', first=True).text,\n",
    "        'author': entry.find('div.author', first=True).text,\n",
    "    }\n",
    "    return context\n",
    "\n",
    "\n",
    "def get_page_meta(resp):\n",
    "    html = HTML(html=resp.text)\n",
    "    post_entries = html.find('div.r-ent')\n",
    "\n",
    "    for entry in post_entries:\n",
    "        meta = parser_article_meta(entry)\n",
    "        #print(meta)\n",
    "        pretty_print(meta['push'], meta['title'], meta['date'], meta['author'])\n",
    "        \n",
    "        \n",
    "def main(url, nums):\n",
    "    for _ in range(nums):\n",
    "        print(f\"第{_+1}頁, {url}\")\n",
    "        resp = fetch(url)\n",
    "        if resp.status_code == 200:\n",
    "            get_page_meta(resp)\n",
    "            url = parser_next_page(resp)\n",
    "        else:\n",
    "            print(resp.status_code)\n",
    "        \n",
    "        \n",
    "if __name__ == '__main__':\n",
    "    url = 'https://www.ptt.cc/bbs/movie/index.html'\n",
    "    main(url=url, nums=5)"
   ]
  },
  {
   "cell_type": "markdown",
   "metadata": {},
   "source": [
    "有更好的寫法嗎？"
   ]
  }
 ],
 "metadata": {
  "kernelspec": {
   "display_name": "Python 3",
   "language": "python",
   "name": "python3"
  },
  "language_info": {
   "codemirror_mode": {
    "name": "ipython",
    "version": 3
   },
   "file_extension": ".py",
   "mimetype": "text/x-python",
   "name": "python",
   "nbconvert_exporter": "python",
   "pygments_lexer": "ipython3",
   "version": "3.6.2"
  }
 },
 "nbformat": 4,
 "nbformat_minor": 2
}
