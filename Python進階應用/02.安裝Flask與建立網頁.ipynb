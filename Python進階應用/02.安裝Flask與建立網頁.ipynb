{
 "cells": [
  {
   "cell_type": "markdown",
   "metadata": {},
   "source": [
    "# Python中階-安裝 Flask 與建立網頁\n",
    "\n",
    "\n",
    "## 中正大學資管系 (20181027) 大綱\n",
    "\n",
    "+ 設定虛擬環境\n",
    "+ 安裝 Flask\n",
    "+ 建立第一個網站\n",
    "+ 說明 Line 的原理"
   ]
  },
  {
   "cell_type": "markdown",
   "metadata": {},
   "source": [
    "##  設定虛擬環境\n",
    "\n",
    "根據安裝的 Python 環境，這裡統一用 Python 建立的虛擬環境(Anaconda 也適用)\n",
    "\n",
    "1. 建立虛擬環境\n",
    "\n",
    "```shell\n",
    "python -m venv chatbot\n",
    "```\n",
    "\n",
    "2. 啟用虛擬環境\n",
    "\n",
    "```shell\n",
    "# linux or osx\n",
    "source /chatbot/bin/active\n",
    "\n",
    "# windows\n",
    "/chatbot/Scripts/activate.bat\n",
    "```\n",
    "\n",
    "3. 如果 command line 前面顯示 `(chatbot)` 代表成功"
   ]
  },
  {
   "cell_type": "markdown",
   "metadata": {},
   "source": [
    "## 安裝 Flask 套件\n",
    "\n",
    "使用 `pip install` 安裝最新版 Flask 套件\n",
    "\n",
    "```\n",
    "# Flask 套件\n",
    "pip install Flask\n",
    "```"
   ]
  },
  {
   "cell_type": "markdown",
   "metadata": {},
   "source": [
    "## 建立第一個網站\n",
    "\n",
    "範例很單純就是建立一個 `Hello World` 網站"
   ]
  },
  {
   "cell_type": "code",
   "execution_count": 2,
   "metadata": {},
   "outputs": [],
   "source": [
    "from flask import Flask\n",
    "\n",
    "app = Flask(__name__)"
   ]
  },
  {
   "cell_type": "code",
   "execution_count": 3,
   "metadata": {},
   "outputs": [
    {
     "name": "stderr",
     "output_type": "stream",
     "text": [
      " * Running on http://127.0.0.1:5000/ (Press CTRL+C to quit)\n",
      "127.0.0.1 - - [26/Oct/2018 09:58:35] \"GET / HTTP/1.1\" 200 -\n",
      "127.0.0.1 - - [26/Oct/2018 09:58:35] \"GET /favicon.ico HTTP/1.1\" 404 -\n"
     ]
    }
   ],
   "source": [
    "@app.route(\"/\")\n",
    "def hello():\n",
    "    return \"Hello World\"\n",
    "\n",
    "if __name__ == \"__main__\":\n",
    "    app.run(threaded=True)"
   ]
  },
  {
   "cell_type": "markdown",
   "metadata": {},
   "source": [
    "打開瀏覽器輸入網址 http://127.0.0.1:5000/ 如果能夠成功連結到就代表成功囉"
   ]
  },
  {
   "cell_type": "markdown",
   "metadata": {},
   "source": [
    "## Line Bot 原理\n",
    "\n",
    "聊天機器人的風起要感謝 Line, Facebook, Telegram 這些平台，為什麼說他們是平台呢？因為它提供你聊天雙方的一個介面，有了一個介面接下來你只要撰寫一個程式，讓他擁有對話功能，那其實就像是兩個人在聊天。\n",
    "\n",
    "但僅是一個介面還不夠，總不能為了做一個聊天機器人他卻使用像人類一樣操作 Line app 才能回話吧？因此這些平台商提供了類似 api 接口讓我們可以直接透過 tcp/ip 接口將內容轉成 http 的方式傳送到他們的伺服器上。\n",
    "\n",
    "![](images/line-bot.png)\n",
    "<div align=\"right\">參考: https://swf.com.tw/?p=1091</div>\n",
    "\n",
    "明白原理之後大概就容易了。以上圖為例，我們需要開發就是右邊的`網站伺服器`，這也是為什麼需要先學會網頁開發就能輕易上手聊天機器人了，因為與平台開發商的運作方式就是透過 http 相互傳遞訊息。但這邊就會有個細節，我們的網站並沒有 ip address 啊，很有可能你使用的網路商提供給你的是動態 ip 位置，這邊不用擔心，後面將告訴你怎麼使用 ngork 這個工具和 Heroku "
   ]
  },
  {
   "cell_type": "code",
   "execution_count": null,
   "metadata": {},
   "outputs": [],
   "source": []
  }
 ],
 "metadata": {
  "kernelspec": {
   "display_name": "Python 3",
   "language": "python",
   "name": "python3"
  },
  "language_info": {
   "codemirror_mode": {
    "name": "ipython",
    "version": 3
   },
   "file_extension": ".py",
   "mimetype": "text/x-python",
   "name": "python",
   "nbconvert_exporter": "python",
   "pygments_lexer": "ipython3",
   "version": "3.6.2"
  }
 },
 "nbformat": 4,
 "nbformat_minor": 2
}
