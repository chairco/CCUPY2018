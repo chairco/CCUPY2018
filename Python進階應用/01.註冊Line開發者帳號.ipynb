{
 "cells": [
  {
   "cell_type": "markdown",
   "metadata": {},
   "source": [
    "# Python中階-註冊 Line 開發者帳號\n",
    "\n",
    "\n",
    "## 中正大學資管系 (20181027) 大綱\n",
    "\n",
    "+ 註冊 Line developers 帳號\n",
    "+ 建立一個 Bot 服務\n",
    "+ 確認設定成功"
   ]
  },
  {
   "cell_type": "markdown",
   "metadata": {},
   "source": [
    "## 註冊 Line developers 帳號\n",
    "\n",
    "#### 首先連結網頁 https://entry-at.line.me/ or https://developers.line.me/en/ 會看到以下畫面，點選紅色方筐**開始使用@Line帳號**\n",
    "\n",
    "![](images/line-reg.png)\n",
    "\n",
    "\n",
    "#### 接著會進入到下面畫面，點選開始使用**一般帳號**。一般帳號和認證帳號只差在有沒有小星星，但認證帳號要十天，所以可以先選擇一般帳號。\n",
    "\n",
    "![](images/line-reg2.png)"
   ]
  },
  {
   "cell_type": "markdown",
   "metadata": {},
   "source": [
    "## 建立一個 Bot 服務\n",
    "\n",
    "#### 接著會輸入你的 Line 的帳號密碼(如果不清楚，在上一個頁面往下拉會教你如何在手機上設定)。使用帳號登入之後會請你輸入相關資料，首先`帳號名稱`就是未來 bot 的名稱喔\n",
    "\n",
    "![](images/line-reg3.png)\n",
    "\n",
    "#### 註冊成功後會顯示\n",
    "\n",
    "![](images/line-reg4.png)\n",
    "\n",
    "\n",
    "#### 同時你的 Line 帳號也會加入這個 bot\n",
    "\n",
    "![](images/line-reg5.png)\n",
    "\n",
    "\n",
    "#### 點登入@LINE@MANAGER 後會進入到設定畫面\n",
    "\n",
    "![](images/line-reg6.png)\n",
    "\n",
    "#### 選左邊 Message API 設定建立一個新的 API\n",
    "\n",
    "![](images/line-reg7.png)\n",
    "\n",
    "#### 完成後跳到設定畫面會發現很多選項不能更改，這是正常的，點選紅筐 `Line Developers` 進一步做修改\n",
    "\n",
    "![](images/line-reg8.png)\n",
    "\n",
    "#### 找到 webhooks 做更改\n",
    "\n",
    "![](images/line-reg9.png)\n",
    "\n",
    "#### 更改成功後\n",
    "\n",
    "![](images/line-reg10.png)\n",
    "\n",
    "\n",
    "#### 接著回到原本畫面，就是成功更改了\n",
    "\n",
    "![](images/line-reg11.png)\n",
    "\n"
   ]
  },
  {
   "cell_type": "markdown",
   "metadata": {},
   "source": [
    "## 確認設定成功\n",
    "\n",
    "接著先將選項裡的 auto-reply 打開做驗證(記得驗證完後就可以關閉，預設應該是打開)\n",
    "\n",
    "![](images/line-reg12.png)\n",
    "\n",
    "\n",
    "如果有回覆如下就代表成功囉～\n",
    "\n",
    "![](images/line-reg13.png)"
   ]
  },
  {
   "cell_type": "code",
   "execution_count": null,
   "metadata": {},
   "outputs": [],
   "source": []
  }
 ],
 "metadata": {
  "kernelspec": {
   "display_name": "Python 3",
   "language": "python",
   "name": "python3"
  },
  "language_info": {
   "codemirror_mode": {
    "name": "ipython",
    "version": 3
   },
   "file_extension": ".py",
   "mimetype": "text/x-python",
   "name": "python",
   "nbconvert_exporter": "python",
   "pygments_lexer": "ipython3",
   "version": "3.6.2"
  }
 },
 "nbformat": 4,
 "nbformat_minor": 2
}
