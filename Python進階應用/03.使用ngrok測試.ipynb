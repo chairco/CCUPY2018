{
 "cells": [
  {
   "cell_type": "markdown",
   "metadata": {},
   "source": [
    "# Python中階-使用 ngrok 測試環境\n",
    "\n",
    "\n",
    "## 中正大學資管系 (20181027) 大綱\n",
    "\n",
    "+ ngrok 是什麼？\n",
    "+ 如何使用 ngrok"
   ]
  },
  {
   "cell_type": "markdown",
   "metadata": {},
   "source": [
    "## ngrok 是什麼\n",
    "\n",
    "Line 聊天機器人的原理就是接收到訊息時發送一個 request 到你指定的位置（webhook），再 call API 然後回訊息。但通常類似 Line 這類平台與你的網頁伺服器連接有兩個要求\n",
    "\n",
    "1. 必須要有一個 domain，像是 https://github.com（不能只有 IP）\n",
    "2. 要是 https(加密需求)\n",
    "\n",
    "雖然接一下來我們會介紹一個 Heroku 平台，只要將你的網頁程式部署到這平台上，以上兩個問題直接就解決了，但問題是通常開發階段需要不斷驗證與測試，如果要用這平台身兼測試那流程就會是:\n",
    "\n",
    "1. 在個人電腦先 coding，肉眼 debug 看一切都沒問題上傳到 heroku\n",
    "2. Line 平台上測試，看有沒有收到訊息\n",
    "3. 看 heroku 的 log debug\n",
    "4. 發現問題，改 code，回到步驟 1\n",
    "\n",
    "如果一開始不熟悉 Line api 一定會超崩潰，這時救星 ngrok 出現了\n",
    "\n",
    "\n",
    "### 一句話介紹 ngrok:\n",
    "\n",
    "> ## **一個可以把你 localhost 對應到 https public domain 的服務**\n",
    "\n",
    "簡單來說，剛剛我們使用 Flask 啟動了一個網站伺服器 http://localhost:5000 它可以將這個內部網址對應到 http://47b1d9cb.ngrok.io \n",
    "\n",
    "沒錯，傑克這真是太神奇了。從此你可以直接從 ngrok 提供的這個網址直接連回到你內部網頁。那不就意味者你可以在 Line 平台上的 webhook 暫時設定這個網址做測試了呢？\n",
    "\n"
   ]
  },
  {
   "cell_type": "markdown",
   "metadata": {},
   "source": [
    "## 如何使用 ngrok\n",
    "\n",
    "首先你要去官方網站上[下載](https://ngrok.com/download)，按照網站說法似乎要註冊一個帳號？但目前我手上的版本不需要就可以使用大家可以先試試看。\n",
    "\n",
    "如果你是 osx 這邊直接提供給你[下載位置](https://drive.google.com/drive/folders/1-FSXVU6d8Da1p42obrHLSKgrgDG0mi5C?usp=sharing)。這個版本確定可以在 osx 上運作。\n",
    "\n",
    "接著在你的終端機(或是 cmd 介面下)執行這個程式並帶上指令 `http port`\n",
    "\n",
    "```shell\n",
    "./ngrok http 5000\n",
    "```\n",
    "\n",
    "前面的 http 就是代表要啟動的 ngrok 服務，後面的數字代表要對應到本機端的 port。執行之後如果顯示下面畫面代表成功了\n",
    "\n",
    "![](images/ngrok.png)"
   ]
  },
  {
   "cell_type": "code",
   "execution_count": null,
   "metadata": {},
   "outputs": [],
   "source": []
  }
 ],
 "metadata": {
  "kernelspec": {
   "display_name": "Python 3",
   "language": "python",
   "name": "python3"
  },
  "language_info": {
   "codemirror_mode": {
    "name": "ipython",
    "version": 3
   },
   "file_extension": ".py",
   "mimetype": "text/x-python",
   "name": "python",
   "nbconvert_exporter": "python",
   "pygments_lexer": "ipython3",
   "version": "3.6.2"
  }
 },
 "nbformat": 4,
 "nbformat_minor": 2
}
