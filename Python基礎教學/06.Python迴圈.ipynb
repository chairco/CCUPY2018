{
 "cells": [
  {
   "cell_type": "markdown",
   "metadata": {},
   "source": [
    "# Python 基礎教學-迴圈\n",
    "\n",
    "## 中正大學資管系 (20181014)"
   ]
  },
  {
   "cell_type": "markdown",
   "metadata": {},
   "source": [
    "* for loop\n",
    "* break 跟 continue\n",
    "* while loop"
   ]
  },
  {
   "cell_type": "markdown",
   "metadata": {},
   "source": [
    "# Python 的 for loop "
   ]
  },
  {
   "cell_type": "markdown",
   "metadata": {},
   "source": [
    "### 語法：\n",
    "\n",
    "```python\n",
    "for 變數 in 資料結構:\n",
    "    欲執行之程式區塊\n",
    "```"
   ]
  },
  {
   "cell_type": "code",
   "execution_count": 3,
   "metadata": {},
   "outputs": [
    {
     "name": "stdout",
     "output_type": "stream",
     "text": [
      "0\n",
      "1\n",
      "2\n",
      "3\n",
      "4\n",
      "5\n",
      "6\n",
      "7\n",
      "8\n",
      "9\n"
     ]
    }
   ],
   "source": [
    "# for 迴圈\n",
    "\n",
    "A = range(10)\n",
    "\n",
    "for i in A:\n",
    "    print(f'{i}')"
   ]
  },
  {
   "cell_type": "code",
   "execution_count": null,
   "metadata": {},
   "outputs": [],
   "source": [
    "help(range)"
   ]
  },
  {
   "cell_type": "code",
   "execution_count": 5,
   "metadata": {},
   "outputs": [
    {
     "name": "stdout",
     "output_type": "stream",
     "text": [
      "   *\n",
      "  ***\n",
      " *****\n",
      "*******\n"
     ]
    }
   ],
   "source": [
    "## 星星\n",
    "a = range(1, 9, 2)\n",
    "for idx, value in enumerate(a):\n",
    "    space = (a[-1]-value)//2\n",
    "    print(f\"{' '*space}{'*'*value}\")"
   ]
  },
  {
   "cell_type": "markdown",
   "metadata": {},
   "source": [
    "## break 跟 continue\n",
    "\n",
    "* break 用來跳出迴圈\n",
    "* continue 用來繼續執行迴圈的下一輪迴"
   ]
  },
  {
   "cell_type": "code",
   "execution_count": 6,
   "metadata": {},
   "outputs": [
    {
     "name": "stdout",
     "output_type": "stream",
     "text": [
      "1\n",
      "2\n",
      "3\n",
      "4\n",
      "5\n",
      "6\n",
      "7\n",
      "8\n",
      "9\n"
     ]
    }
   ],
   "source": [
    "for i in range(1, 10):\n",
    "    print(i)"
   ]
  },
  {
   "cell_type": "code",
   "execution_count": 7,
   "metadata": {},
   "outputs": [
    {
     "name": "stdout",
     "output_type": "stream",
     "text": [
      "1\n",
      "2\n",
      "3\n",
      "4\n"
     ]
    }
   ],
   "source": [
    "for i in range(1, 10):\n",
    "    if i % 5 == 0:\n",
    "        break\n",
    "    print(i)"
   ]
  },
  {
   "cell_type": "code",
   "execution_count": 8,
   "metadata": {},
   "outputs": [
    {
     "name": "stdout",
     "output_type": "stream",
     "text": [
      "1\n",
      "2\n",
      "3\n",
      "4\n",
      "6\n",
      "7\n",
      "8\n",
      "9\n"
     ]
    }
   ],
   "source": [
    "for i in range(1, 10):\n",
    "    if i % 5 ==0:\n",
    "        continue\n",
    "    print(i)"
   ]
  },
  {
   "cell_type": "code",
   "execution_count": 10,
   "metadata": {},
   "outputs": [
    {
     "name": "stdout",
     "output_type": "stream",
     "text": [
      "i =  0 j =  0\n",
      "i =  0 j =  1\n",
      "i =  1 j =  0\n",
      "i =  1 j =  1\n"
     ]
    }
   ],
   "source": [
    "## nested 巢狀迴圈\n",
    "for i in range(2):\n",
    "    for j in range(2):\n",
    "        print('i = ',i, \"j = \",j)"
   ]
  },
  {
   "cell_type": "code",
   "execution_count": 14,
   "metadata": {},
   "outputs": [
    {
     "name": "stdout",
     "output_type": "stream",
     "text": [
      "72 ['2*1=2', '2*2=4', '2*3=6', '2*4=8', '2*5=10', '2*6=12', '2*7=14', '2*8=16', '2*9=18', '3*1=3', '3*2=6', '3*3=9', '3*4=12', '3*5=15', '3*6=18', '3*7=21', '3*8=24', '3*9=27', '4*1=4', '4*2=8', '4*3=12', '4*4=16', '4*5=20', '4*6=24', '4*7=28', '4*8=32', '4*9=36', '5*1=5', '5*2=10', '5*3=15', '5*4=20', '5*5=25', '5*6=30', '5*7=35', '5*8=40', '5*9=45', '6*1=6', '6*2=12', '6*3=18', '6*4=24', '6*5=30', '6*6=36', '6*7=42', '6*8=48', '6*9=54', '7*1=7', '7*2=14', '7*3=21', '7*4=28', '7*5=35', '7*6=42', '7*7=49', '7*8=56', '7*9=63', '8*1=8', '8*2=16', '8*3=24', '8*4=32', '8*5=40', '8*6=48', '8*7=56', '8*8=64', '8*9=72', '9*1=9', '9*2=18', '9*3=27', '9*4=36', '9*5=45', '9*6=54', '9*7=63', '9*8=72', '9*9=81']\n"
     ]
    }
   ],
   "source": [
    "# 99 乘法表\n",
    "alls = []\n",
    "for i in range(2, 10):\n",
    "    for j in range(1,10):\n",
    "        alls.append(f'{i}*{j}={i*j}')\n",
    "print(len(alls), alls)"
   ]
  },
  {
   "cell_type": "code",
   "execution_count": null,
   "metadata": {},
   "outputs": [],
   "source": [
    "# 利用 1 or 0 做判斷\n",
    "num = range(10)\n",
    "odds = []\n",
    "for i in num:\n",
    "    if i % 2:\n",
    "        odds"
   ]
  },
  {
   "cell_type": "markdown",
   "metadata": {},
   "source": [
    "# Python 的 [while statement](http://www.runoob.com/python/python-while-loop.html)"
   ]
  },
  {
   "cell_type": "markdown",
   "metadata": {},
   "source": [
    "## Syntax (語法)\n",
    "\n",
    "```python\n",
    "while (statement)：\n",
    "    欲執行的程式\n",
    "\n",
    "```"
   ]
  },
  {
   "cell_type": "code",
   "execution_count": 19,
   "metadata": {},
   "outputs": [
    {
     "name": "stdout",
     "output_type": "stream",
     "text": [
      "c = 0 continue...\n",
      "c = 1 continue...\n",
      "c = 2 continue...\n",
      "c = 3 continue...\n",
      "c = 4 continue...\n",
      "c = 5 continue...\n"
     ]
    }
   ],
   "source": [
    "c = 0\n",
    "while c <= 5:\n",
    "    print(f\"c = {c} continue...\")\n",
    "    c += 1"
   ]
  },
  {
   "cell_type": "code",
   "execution_count": 17,
   "metadata": {},
   "outputs": [
    {
     "name": "stdout",
     "output_type": "stream",
     "text": [
      "c = 0 continue...\n",
      "c = 1 continue...\n"
     ]
    }
   ],
   "source": [
    "c = 0\n",
    "while c <= 5:\n",
    "    print(f\"c = {c} continue...\")\n",
    "    c += 1\n",
    "    if c == 2:\n",
    "        break"
   ]
  },
  {
   "cell_type": "code",
   "execution_count": 20,
   "metadata": {},
   "outputs": [
    {
     "name": "stdout",
     "output_type": "stream",
     "text": [
      "c = 0 continue...\n",
      "c = 1 continue...\n"
     ]
    }
   ],
   "source": [
    "c = 0\n",
    "while c <= 5:\n",
    "    print(f\"c = {c} continue...\")\n",
    "    c += 1\n",
    "    if c == 2:\n",
    "        break\n",
    "else:\n",
    "    print('leave while')"
   ]
  },
  {
   "cell_type": "code",
   "execution_count": 21,
   "metadata": {},
   "outputs": [
    {
     "name": "stdout",
     "output_type": "stream",
     "text": [
      "c = 0 continue...\n",
      "c = 1 continue...\n",
      "c = 2 continue...\n",
      "c = 3 continue...\n",
      "c = 4 continue...\n",
      "c = 5 continue...\n",
      "leave while\n"
     ]
    }
   ],
   "source": [
    "c = 0\n",
    "while c <= 5:\n",
    "    print(f\"c = {c} continue...\")\n",
    "    c += 1\n",
    "else:\n",
    "    print('leave while')"
   ]
  },
  {
   "cell_type": "code",
   "execution_count": null,
   "metadata": {},
   "outputs": [],
   "source": []
  }
 ],
 "metadata": {
  "kernelspec": {
   "display_name": "Python 3",
   "language": "python",
   "name": "python3"
  },
  "language_info": {
   "codemirror_mode": {
    "name": "ipython",
    "version": 3
   },
   "file_extension": ".py",
   "mimetype": "text/x-python",
   "name": "python",
   "nbconvert_exporter": "python",
   "pygments_lexer": "ipython3",
   "version": "3.6.2"
  }
 },
 "nbformat": 4,
 "nbformat_minor": 2
}
