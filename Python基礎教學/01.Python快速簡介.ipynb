{
 "cells": [
  {
   "cell_type": "markdown",
   "metadata": {},
   "source": [
    "# Python 基礎教學-快速簡介\n",
    "\n",
    "## 中正大學資管系 (20181014)\n",
    "(本內容部分參考高雄 Python 社群教材)"
   ]
  },
  {
   "cell_type": "markdown",
   "metadata": {},
   "source": [
    "# Python 安裝"
   ]
  },
  {
   "cell_type": "markdown",
   "metadata": {},
   "source": [
    "## Python 環境建置：Anaconda (推薦)\n",
    "\n",
    "* 版本：3.x\n",
    "\n",
    "[![](images/Anaconda.png)](https://www.continuum.io/downloads)\n",
    "\n",
    "[More](http://www.ziqiangxuetang.com/python/python-install.html)"
   ]
  },
  {
   "cell_type": "markdown",
   "metadata": {},
   "source": [
    "## 什麼是 Anaconda\n",
    "\n",
    "除了安裝 Python 本身以外：\n",
    "- 開發 Python 程式時常用的工具\n",
    "- Python 在資料科學應用上常用的套件\n",
    "- R 語言\n",
    "- conda 指令，用來管理第三方套件（conda 套件），以及虛擬環境\n",
    "- GUI 應用程式，用圖形化介面做到安裝套件或啟動程式"
   ]
  },
  {
   "cell_type": "markdown",
   "metadata": {},
   "source": [
    "## 第一支程式\n",
    "* 打開編輯器，例如: Sublime 3\n",
    "* 鍵入 \"print(\"Hello World!\")\"\n",
    "* 存成 hello.py 檔！\n",
    "* 在命令列使用 python hello.py 執行！\n",
    "```\n",
    "c:\\> python hello.py\n",
    "```"
   ]
  },
  {
   "cell_type": "markdown",
   "metadata": {},
   "source": [
    "# Python 的架構"
   ]
  },
  {
   "cell_type": "markdown",
   "metadata": {},
   "source": [
    "![](images/coffeeghost-q-in-py.png)"
   ]
  },
  {
   "cell_type": "markdown",
   "metadata": {},
   "source": [
    "## 【Python 語法重點】\n",
    "\n",
    "* Python 使用空白字元來定義程式結構\n",
    "  - 每一行最前面的空白字元的數目是有意義的\n",
    "  - 同一個區塊的縮排需要一樣\n",
    "* 使用 import 來載入套件或模組\n",
    "* \"#\" 開頭的為註解\n",
    "* 引號(單引號或雙引號)標注起來的為字串"
   ]
  },
  {
   "cell_type": "markdown",
   "metadata": {},
   "source": [
    "## 執行 Python 程式的方法\n",
    "\n",
    "- 互動式命令列 Interactive Shell\n",
    "- Python 腳本 Script\n",
    "\n",
    "### 互動式命令列 Interactive Shell\n",
    "\n",
    "<img style=\"height: 150px\" src=\"http://i.imgur.com/3IZVigp.png\" />\n",
    "\n",
    "- 一個指令一個輸出\n",
    "- 通常是在試用一些工具時，或是嘗試 Python 語法時使用\n",
    "- 在命令提示字元（command line）輸入「python」即會跳出此畫面\n",
    "\n",
    "### 互動式命令列 Interactive Shell：IPython\n",
    "\n",
    "<img style=\"height: 200px\" src=\"http://i.imgur.com/6eysNbR.png\" />\n",
    "\n",
    "- IPython 是 \"Interactive Python\" 的縮寫\n",
    "- 加強版的 Python Shell\n",
    "\n",
    "### Python 腳本\n",
    "\n",
    "假設我們有一個檔案叫 `hello.py` ，內容如下：\n",
    "```python\n",
    "for i in range(10):\n",
    "    print(\"This is loop\", i)\n",
    "```\n",
    "我們可以在命令提示字元用 `python` 指令來執行它：\n",
    "<img style=\"height: 200px\" src=\"http://i.imgur.com/TAUcJbD.png\" />\n",
    "\n",
    "\n",
    "## Jupyter Notebook\n",
    "\n",
    "我們在這堂課用的介面則是叫做 Jupyter Notebook\n",
    "\n",
    "- 本身是個網頁應用程式\n",
    "- 可以用 Markdown 語法做豐富的筆記文件、寫數學式子、執行程式\n",
    "- 可以方便的看到用 Python 作圖的結果\n",
    "- 執行 Python 程式的部分是使用 IPython"
   ]
  },
  {
   "cell_type": "markdown",
   "metadata": {},
   "source": [
    "## 關於 Python\n",
    "\n",
    "- 易寫、易讀、易學\n",
    "- 是「通用」的程式語言，可以用於各種類型的程式\n",
    "- 適合初學者也適合專家\n",
    "- 擁有強大的社群以及生態系統\n",
    "\n",
    "### 常見的 Python 套件\n",
    "\n",
    "- NumPy: 多維矩陣運算、線性代數\n",
    "- Pandas: 資料分析\n",
    "- Django: 網頁開發框架\n",
    "- TensorFlow: 機器學習框架\n",
    "- requests: 方便的 HTTP 函式庫\n",
    "- Scrapy: 網頁爬蟲框架\n",
    "- 族繁不及備載"
   ]
  },
  {
   "cell_type": "markdown",
   "metadata": {},
   "source": [
    "## 搜尋 Python 套件？"
   ]
  },
  {
   "cell_type": "markdown",
   "metadata": {},
   "source": [
    "## PyPI (Python Packages Index)\n",
    "![](images/PyPI.png)(https://pypi.python.org/pypi)"
   ]
  },
  {
   "cell_type": "markdown",
   "metadata": {},
   "source": [
    "## 套件安裝？\n",
    "\n",
    "1. 使用 conda 安裝套件\n",
    "2. 使用 pip 安裝套件"
   ]
  },
  {
   "cell_type": "markdown",
   "metadata": {},
   "source": [
    "## 1. 使用 conda 安裝套件\n",
    "\n",
    "* 安裝 package\n",
    "```\n",
    "c:\\> conda install -n yourenvname <package>\n",
    "# 注意：如果沒有加 \"-n yourenvname\"，則套件會被安裝到 root env\n",
    "```\n",
    "\n",
    "* 移除 package\n",
    "```\n",
    "c:\\> conda uninstall -n yourenvname <package>\n",
    "```\n",
    "\n",
    "* 檢查 conda 的版本\n",
    "```\n",
    "c:\\> conda -V\n",
    "```\n",
    "\n",
    "* 更新 conda\n",
    "```\n",
    "c:\\> conda update conda\n",
    "```"
   ]
  },
  {
   "cell_type": "markdown",
   "metadata": {},
   "source": [
    "## 2. 使用[pip](https://pip.pypa.io/en/stable/)安裝套件\n",
    "\n",
    "* 安裝套件\n",
    "```\n",
    "c:\\> pip install <package>\n",
    "```\n",
    "\n",
    "* 更新套件\n",
    "```\n",
    "c:\\> pip install --upgrade <package>\n",
    "```\n",
    "\n",
    "* 移除套件\n",
    "```\n",
    "c:\\> pip uninstall <package>\n",
    "```\n",
    "\n",
    "* 搜尋套件\n",
    "```\n",
    "c:\\> pip search <package>\n",
    "```\n",
    "\n",
    "* 列出已安裝套件\n",
    "```\n",
    "c:\\> pip list\n",
    "```\n",
    "\n",
    "* 列出已安裝套件 (requirement format)\n",
    "```\n",
    "c:\\> pip freeze\n",
    "```\n",
    "\n",
    "* 將已安裝之套件及版本輸出成文字檔\n",
    "```\n",
    "c:\\ pip freeze > requirements.txt\n",
    "```\n",
    "\n",
    "* 從 requirements.txt 安裝對應套件\n",
    "```\n",
    "c:\\ pip install -r requirements.txt\n",
    "```"
   ]
  },
  {
   "cell_type": "markdown",
   "metadata": {},
   "source": [
    "## 載入模組及套件？\n",
    "\n",
    "* import\n",
    "  - 載入模組\n",
    "* import... as...\n",
    "  - 載入模組，並取別名\n",
    "* from... import...\n",
    "  - 從套件中載入模組，或從模組中載入類別等等"
   ]
  },
  {
   "cell_type": "code",
   "execution_count": 1,
   "metadata": {},
   "outputs": [
    {
     "name": "stdout",
     "output_type": "stream",
     "text": [
      "The Zen of Python, by Tim Peters\n",
      "\n",
      "Beautiful is better than ugly.\n",
      "Explicit is better than implicit.\n",
      "Simple is better than complex.\n",
      "Complex is better than complicated.\n",
      "Flat is better than nested.\n",
      "Sparse is better than dense.\n",
      "Readability counts.\n",
      "Special cases aren't special enough to break the rules.\n",
      "Although practicality beats purity.\n",
      "Errors should never pass silently.\n",
      "Unless explicitly silenced.\n",
      "In the face of ambiguity, refuse the temptation to guess.\n",
      "There should be one-- and preferably only one --obvious way to do it.\n",
      "Although that way may not be obvious at first unless you're Dutch.\n",
      "Now is better than never.\n",
      "Although never is often better than *right* now.\n",
      "If the implementation is hard to explain, it's a bad idea.\n",
      "If the implementation is easy to explain, it may be a good idea.\n",
      "Namespaces are one honking great idea -- let's do more of those!\n"
     ]
    }
   ],
   "source": [
    "import this"
   ]
  },
  {
   "cell_type": "markdown",
   "metadata": {},
   "source": [
    "## (進階) 使用 conda 建立虛擬環境 (Virtual Environment)\n",
    "\n",
    "\n",
    "* 建立 virtual environment\n",
    "```\n",
    "c:\\> conda create -n yourenvname python=x.x anaconda\n",
    "```\n",
    "\n",
    "* 列出所有 virtual environment\n",
    "```\n",
    "c:\\> conda info -e\n",
    "```\n",
    "\n",
    "* 啟動 virtual environment\n",
    "```\n",
    "c:\\> source activate yourenvname\n",
    "```\n",
    "\n",
    "* 停止 virtual environment\n",
    "```\n",
    "c:\\> source deactivate\n",
    "```\n",
    "\n",
    "* 刪除 virtual environment\n",
    "```\n",
    "c:\\> conda remove -n yourenvname --all\n",
    "```"
   ]
  },
  {
   "cell_type": "markdown",
   "metadata": {},
   "source": [
    "## 使用 python 建立虛擬環境 (Virtual Environment)\n",
    "\n",
    "\n",
    "* 建立 virtual environment\n",
    "```\n",
    "c:\\> python -m venv '環境名稱'\n",
    "```"
   ]
  }
 ],
 "metadata": {
  "kernelspec": {
   "display_name": "Python 3",
   "language": "python",
   "name": "python3"
  },
  "language_info": {
   "codemirror_mode": {
    "name": "ipython",
    "version": 3
   },
   "file_extension": ".py",
   "mimetype": "text/x-python",
   "name": "python",
   "nbconvert_exporter": "python",
   "pygments_lexer": "ipython3",
   "version": "3.6.2"
  }
 },
 "nbformat": 4,
 "nbformat_minor": 2
}
