{
 "cells": [
  {
   "cell_type": "markdown",
   "metadata": {},
   "source": [
    "# Python 基礎教學-資料結構\n",
    "\n",
    "## 中正大學資管系 (20181014)"
   ]
  },
  {
   "cell_type": "markdown",
   "metadata": {},
   "source": [
    "## 資料結構(容器)\n",
    "* [列表 list -> []](https://realpython.com/python-lists-tuples/)\n",
    "* [元組 tuple -> ()](https://realpython.com/python-lists-tuples/)\n",
    "* [字典 dict -> {}](http://www.runoob.com/python/python-dictionary.html)\n",
    "* [集合 set -> {}](http://www.iplaypython.com/jichu/set.html)"
   ]
  },
  {
   "cell_type": "markdown",
   "metadata": {},
   "source": [
    "# list (串列)\n",
    "\n",
    "當你有一系列的資料時，要怎麼表示？\n",
    "\n",
    "- 一串數字？\n",
    "- 一堆人名？"
   ]
  },
  {
   "cell_type": "markdown",
   "metadata": {},
   "source": [
    "在 Python 裡，`list` 可以表示這種類型的資料  \n",
    "`list` 就是一連串的資料，語法相當簡單：\n",
    "\n",
    "- 用一對中括弧 `[]` 來代表一個 list 的開始與結束\n",
    "- list 中的元素用逗號分隔"
   ]
  },
  {
   "cell_type": "code",
   "execution_count": 3,
   "metadata": {},
   "outputs": [
    {
     "name": "stdout",
     "output_type": "stream",
     "text": [
      "[1]\n",
      "[1, 2]\n"
     ]
    }
   ],
   "source": [
    "# 建立空串列\n",
    "lists = []\n",
    "lists.append(1)\n",
    "print(lists)\n",
    "lists.append(2)\n",
    "print(lists)"
   ]
  },
  {
   "cell_type": "code",
   "execution_count": 4,
   "metadata": {},
   "outputs": [
    {
     "name": "stdout",
     "output_type": "stream",
     "text": [
      "[1]\n"
     ]
    }
   ],
   "source": [
    "# 另一種建立空串列方式\n",
    "lists = list()\n",
    "lists.append(1)\n",
    "print(lists)"
   ]
  },
  {
   "cell_type": "markdown",
   "metadata": {},
   "source": [
    "List 的元素**可以是任何型別的資料**，包括 `list`，因此含有 `list` 的 `list` 是可能發生的情況"
   ]
  },
  {
   "cell_type": "code",
   "execution_count": 1,
   "metadata": {},
   "outputs": [
    {
     "name": "stdout",
     "output_type": "stream",
     "text": [
      "[10.0, 'Hello World', 'a', [1, 2, 3]]\n",
      "10.0 [1, 2, 3]\n"
     ]
    }
   ],
   "source": [
    "# 空串列可以放入各種不同型態的物件\n",
    "a = 'a'\n",
    "lists = [10.0, 'Hello World', a, [1,2,3]]\n",
    "print(lists)\n",
    "print(lists[0], lists[-1])"
   ]
  },
  {
   "cell_type": "markdown",
   "metadata": {},
   "source": [
    "list 內已經有取多內建的方法，方法可以在[官方網站查詢](https://docs.python.org/3/tutorial/datastructures.html)，以下舉例:\n",
    "\n",
    "+ list.append() 增加一筆資料到最後一個位置\n",
    "+ list.pop() 移除 list 內最後一筆資料, 或是指定哪個位置\n",
    "+ list.insert(i, x) 將資料存入指定的 index 位置\n",
    "+ list.remove(x) 移除 list 內某個值\n",
    "+ list.index(x, [start, end]) 某個值的 index 位置"
   ]
  },
  {
   "cell_type": "code",
   "execution_count": 2,
   "metadata": {},
   "outputs": [
    {
     "name": "stdout",
     "output_type": "stream",
     "text": [
      "[10.0, 'Hello World', 'a', [1, 2, 3], 0]\n"
     ]
    }
   ],
   "source": [
    "# 增加一筆資料到最後位置\n",
    "lists.append(0)\n",
    "print(lists)"
   ]
  },
  {
   "cell_type": "code",
   "execution_count": 3,
   "metadata": {},
   "outputs": [
    {
     "name": "stdout",
     "output_type": "stream",
     "text": [
      "[10.0, 'Hello World', 'a', [1, 2, 3]]\n"
     ]
    }
   ],
   "source": [
    "# 移出 list 最後一筆資料\n",
    "lists.pop()\n",
    "print(lists)"
   ]
  },
  {
   "cell_type": "code",
   "execution_count": 7,
   "metadata": {},
   "outputs": [
    {
     "name": "stdout",
     "output_type": "stream",
     "text": [
      "[20.0, 10.0, 'Hello World', 'a']\n"
     ]
    }
   ],
   "source": [
    "# 放入一筆資料到 list 開頭\n",
    "lists.insert(0, 20.0)\n",
    "print(lists)"
   ]
  },
  {
   "cell_type": "code",
   "execution_count": 8,
   "metadata": {},
   "outputs": [
    {
     "name": "stdout",
     "output_type": "stream",
     "text": [
      "[20.0, 'Hello World', 'a']\n"
     ]
    }
   ],
   "source": [
    "# 刪除 list 內 10.0\n",
    "lists.remove(10.0)\n",
    "print(lists)"
   ]
  },
  {
   "cell_type": "code",
   "execution_count": 9,
   "metadata": {},
   "outputs": [
    {
     "name": "stdout",
     "output_type": "stream",
     "text": [
      "0\n"
     ]
    }
   ],
   "source": [
    "# 印出 list 20.0 的 index\n",
    "print(lists.index(20.0))"
   ]
  },
  {
   "cell_type": "code",
   "execution_count": 10,
   "metadata": {},
   "outputs": [
    {
     "name": "stdout",
     "output_type": "stream",
     "text": [
      "['Hello', 'World']\n"
     ]
    }
   ],
   "source": [
    "# 串列作鏈結\n",
    "list_a = ['Hello']\n",
    "list_b = ['World']\n",
    "list_a.extend(list_b)\n",
    "print(list_a)"
   ]
  },
  {
   "cell_type": "code",
   "execution_count": 11,
   "metadata": {},
   "outputs": [
    {
     "name": "stdout",
     "output_type": "stream",
     "text": [
      "[]\n"
     ]
    }
   ],
   "source": [
    "# 清空串列內所有的值\n",
    "list_a.clear()\n",
    "print(list_a)"
   ]
  },
  {
   "cell_type": "code",
   "execution_count": 12,
   "metadata": {},
   "outputs": [
    {
     "name": "stdout",
     "output_type": "stream",
     "text": [
      "[0, 1, 2, 3, 4, 5]\n"
     ]
    }
   ],
   "source": [
    "# 將串列做排序(小-->大)\n",
    "lists = [5, 4, 2, 0, 3, 1]\n",
    "lists.sort()\n",
    "print(lists)"
   ]
  },
  {
   "cell_type": "code",
   "execution_count": 13,
   "metadata": {},
   "outputs": [
    {
     "name": "stdout",
     "output_type": "stream",
     "text": [
      "0\n",
      "1\n",
      "2\n",
      "3\n",
      "4\n",
      "5\n"
     ]
    }
   ],
   "source": [
    "# 使用 for loop 印出串列\n",
    "for i in lists:\n",
    "    print(i)"
   ]
  },
  {
   "cell_type": "code",
   "execution_count": 14,
   "metadata": {},
   "outputs": [
    {
     "name": "stdout",
     "output_type": "stream",
     "text": [
      "[5, 4, 3, 2, 1, 0]\n"
     ]
    }
   ],
   "source": [
    "# 反轉串列\n",
    "lists.reverse()\n",
    "print(lists)"
   ]
  },
  {
   "cell_type": "code",
   "execution_count": 15,
   "metadata": {},
   "outputs": [
    {
     "name": "stdout",
     "output_type": "stream",
     "text": [
      "this is a\n",
      "this is b\n"
     ]
    }
   ],
   "source": [
    "# assign 串列值給變數\n",
    "lists = ['this is a', 'this is b']\n",
    "\n",
    "a, b = lists\n",
    "print(a)\n",
    "print(b)"
   ]
  },
  {
   "cell_type": "code",
   "execution_count": 20,
   "metadata": {},
   "outputs": [
    {
     "name": "stdout",
     "output_type": "stream",
     "text": [
      "False\n",
      "False\n"
     ]
    }
   ],
   "source": [
    "# 串列是有序的\n",
    "a = ['foo', 'bar', 'baz', 'qux']\n",
    "b = ['baz', 'qux', 'bar', 'foo']\n",
    "print(a == b)\n",
    "print(a is b)"
   ]
  },
  {
   "cell_type": "code",
   "execution_count": null,
   "metadata": {},
   "outputs": [],
   "source": []
  },
  {
   "cell_type": "markdown",
   "metadata": {},
   "source": [
    "## 串列切片\n",
    "\n",
    "![](images/slice.png)"
   ]
  },
  {
   "cell_type": "code",
   "execution_count": 5,
   "metadata": {},
   "outputs": [
    {
     "name": "stdout",
     "output_type": "stream",
     "text": [
      "foo\n",
      "baz\n",
      "corge\n"
     ]
    }
   ],
   "source": [
    "#List elements can be accessed by index.\n",
    "a = ['foo', 'bar', 'baz', 'qux', 'quux', 'corge']\n",
    "print(a[0])\n",
    "print(a[2])\n",
    "print(a[5])"
   ]
  },
  {
   "cell_type": "markdown",
   "metadata": {},
   "source": [
    "如果嘗試讀取一個不存在的元素（位置超出該 list 的範圍），則會出現 **`IndexError`**"
   ]
  },
  {
   "cell_type": "code",
   "execution_count": 6,
   "metadata": {},
   "outputs": [
    {
     "ename": "IndexError",
     "evalue": "list index out of range",
     "output_type": "error",
     "traceback": [
      "\u001b[0;31m---------------------------------------------------------------------------\u001b[0m",
      "\u001b[0;31mIndexError\u001b[0m                                Traceback (most recent call last)",
      "\u001b[0;32m<ipython-input-6-d0b84a387c4c>\u001b[0m in \u001b[0;36m<module>\u001b[0;34m()\u001b[0m\n\u001b[0;32m----> 1\u001b[0;31m \u001b[0ma\u001b[0m\u001b[0;34m[\u001b[0m\u001b[0;36m6\u001b[0m\u001b[0;34m]\u001b[0m \u001b[0;31m# 第 6 項並不存在於 a 中，最後一項是第 5 項\u001b[0m\u001b[0;34m\u001b[0m\u001b[0m\n\u001b[0m",
      "\u001b[0;31mIndexError\u001b[0m: list index out of range"
     ]
    }
   ],
   "source": [
    "a[6] # 第 6 項並不存在於 a 中，最後一項是第 5 項"
   ]
  },
  {
   "cell_type": "markdown",
   "metadata": {},
   "source": [
    "## List - Slices 切片\n",
    "**Slicing**：取得 list 中的「其中一部分」\n",
    "- 只要第二個到第五個\n",
    "- 只要前五個\n",
    "- 只要最後五個\n",
    "- 只要取得偶數位置的"
   ]
  },
  {
   "cell_type": "code",
   "execution_count": 7,
   "metadata": {},
   "outputs": [
    {
     "name": "stdout",
     "output_type": "stream",
     "text": [
      "['baz', 'qux', 'quux']\n"
     ]
    }
   ],
   "source": [
    "# 取 2 到 5 個\n",
    "a = ['foo', 'bar', 'baz', 'qux', 'quux', 'corge']\n",
    "print(a[2:5])"
   ]
  },
  {
   "cell_type": "code",
   "execution_count": 8,
   "metadata": {},
   "outputs": [
    {
     "name": "stdout",
     "output_type": "stream",
     "text": [
      "['bar', 'baz', 'qux']\n"
     ]
    }
   ],
   "source": [
    "# 從負數來取 2 到 5 個\n",
    "print(a[-5:-2])"
   ]
  },
  {
   "cell_type": "code",
   "execution_count": 11,
   "metadata": {},
   "outputs": [
    {
     "name": "stdout",
     "output_type": "stream",
     "text": [
      "True\n"
     ]
    }
   ],
   "source": [
    "print(a[-5:-2] == a[1:4])"
   ]
  },
  {
   "cell_type": "code",
   "execution_count": 10,
   "metadata": {},
   "outputs": [
    {
     "name": "stdout",
     "output_type": "stream",
     "text": [
      "['foo', 'bar', 'baz', 'qux', 'quux']\n"
     ]
    }
   ],
   "source": [
    "# 取前 5 個\n",
    "print(a[:5])"
   ]
  },
  {
   "cell_type": "code",
   "execution_count": 13,
   "metadata": {},
   "outputs": [
    {
     "name": "stdout",
     "output_type": "stream",
     "text": [
      "['foo', 'bar', 'baz', 'qux'] ['foo', 'bar', 'baz', 'qux']\n",
      "['baz', 'qux', 'quux', 'corge'] ['baz', 'qux', 'quux', 'corge']\n"
     ]
    }
   ],
   "source": [
    "# 補充省略切片第一個索引就是從頭開始\n",
    "print(a[:4], a[0:4])\n",
    "print(a[2:], a[2:len(a)])"
   ]
  },
  {
   "cell_type": "code",
   "execution_count": 12,
   "metadata": {},
   "outputs": [
    {
     "name": "stdout",
     "output_type": "stream",
     "text": [
      "['foo', 'baz', 'quux']\n"
     ]
    }
   ],
   "source": [
    "# 取偶數位置\n",
    "print(a[::2])"
   ]
  },
  {
   "cell_type": "code",
   "execution_count": 14,
   "metadata": {},
   "outputs": [
    {
     "name": "stdout",
     "output_type": "stream",
     "text": [
      "['foo', 'baz', 'quux']\n",
      "['bar', 'qux', 'corge']\n",
      "['corge', 'qux', 'bar']\n"
     ]
    }
   ],
   "source": [
    "# 指定切片步幅\n",
    "print(a[0:6:2])\n",
    "print(a[1:6:2])\n",
    "print(a[6:0:-2])"
   ]
  },
  {
   "cell_type": "code",
   "execution_count": 25,
   "metadata": {},
   "outputs": [
    {
     "name": "stdout",
     "output_type": "stream",
     "text": [
      "['foo', 'bar', 'baz', 'qux', 'quux', 'corge']\n",
      "True\n"
     ]
    }
   ],
   "source": [
    "# 切片結合\n",
    "print(a[:4] + a[4:])\n",
    "print(a[:4] + a[4:] == a)"
   ]
  },
  {
   "cell_type": "code",
   "execution_count": 27,
   "metadata": {},
   "outputs": [
    {
     "name": "stdout",
     "output_type": "stream",
     "text": [
      "['corge', 'quux', 'qux', 'baz', 'bar', 'foo']\n"
     ]
    }
   ],
   "source": [
    "# 使用切片反轉(等同 reverse)\n",
    "print(a[::-1])"
   ]
  },
  {
   "cell_type": "markdown",
   "metadata": {},
   "source": [
    "## 『串列切片練習』"
   ]
  },
  {
   "cell_type": "code",
   "execution_count": 28,
   "metadata": {},
   "outputs": [],
   "source": [
    "# 切片步幅\n",
    "lists = [0, 1, 2, 3, 4, 5, 6, 7, 8, 9, 10]\n",
    "print(lists[0::1])\n",
    "print(lists[0::2])\n",
    "print(lists[0::3])"
   ]
  },
  {
   "cell_type": "code",
   "execution_count": 29,
   "metadata": {},
   "outputs": [],
   "source": [
    "# 切片開頭\n",
    "print(lists[0:])\n",
    "print(lists[3:])"
   ]
  },
  {
   "cell_type": "code",
   "execution_count": 30,
   "metadata": {},
   "outputs": [],
   "source": [
    "# 切片負數\n",
    "print(lists[-1])"
   ]
  },
  {
   "cell_type": "code",
   "execution_count": null,
   "metadata": {},
   "outputs": [],
   "source": [
    "print(lists[::-1]) #lists.reverse()\n",
    "print(lists[0:-10])"
   ]
  },
  {
   "cell_type": "markdown",
   "metadata": {},
   "source": [
    "## 其他進階"
   ]
  },
  {
   "cell_type": "code",
   "execution_count": 31,
   "metadata": {},
   "outputs": [
    {
     "name": "stdout",
     "output_type": "stream",
     "text": [
      "foobar\n",
      "True\n"
     ]
    }
   ],
   "source": [
    "# [:] list 與 string 差異, 對 list 而言 [:] 是 copy\n",
    "s = 'foobar'\n",
    "print(s[:])\n",
    "print(s[:] is s)"
   ]
  },
  {
   "cell_type": "code",
   "execution_count": 32,
   "metadata": {},
   "outputs": [
    {
     "name": "stdout",
     "output_type": "stream",
     "text": [
      "['foo', 'bar', 'baz', 'qux', 'quux', 'corge']\n",
      "False\n"
     ]
    }
   ],
   "source": [
    "a = ['foo', 'bar', 'baz', 'qux', 'quux', 'corge']\n",
    "print(a[:])\n",
    "print(a[:] is a)"
   ]
  },
  {
   "cell_type": "code",
   "execution_count": 33,
   "metadata": {},
   "outputs": [
    {
     "name": "stdout",
     "output_type": "stream",
     "text": [
      "True\n",
      "True\n"
     ]
    }
   ],
   "source": [
    "# in, not 操作\n",
    "print('qux' in a)\n",
    "print('thud' not in a)"
   ]
  },
  {
   "cell_type": "code",
   "execution_count": 34,
   "metadata": {},
   "outputs": [
    {
     "name": "stdout",
     "output_type": "stream",
     "text": [
      "['foo', 'bar', 'baz', 'qux', 'quux', 'corge', 'grault', 'garply']\n",
      "['foo', 'bar', 'baz', 'qux', 'quux', 'corge', 'foo', 'bar', 'baz', 'qux', 'quux', 'corge']\n"
     ]
    }
   ],
   "source": [
    "# concatenation(+), replication(*)\n",
    "print(a + ['grault', 'garply'])\n",
    "print(a * 2)"
   ]
  },
  {
   "cell_type": "code",
   "execution_count": 35,
   "metadata": {},
   "outputs": [
    {
     "name": "stdout",
     "output_type": "stream",
     "text": [
      "6\n",
      "bar\n",
      "qux\n"
     ]
    }
   ],
   "source": [
    "# len(), min(), max()\n",
    "print(len(a))\n",
    "print(min(a))\n",
    "print(max(a))"
   ]
  },
  {
   "cell_type": "markdown",
   "metadata": {},
   "source": [
    "## 巢狀的串列說明\n",
    "```\n",
    "x = ['a', ['bb', ['ccc', 'ddd'], 'ee', 'ff'], 'g', ['hh', 'ii'], 'j']\n",
    "```\n",
    "![](images/nested_list.png)"
   ]
  },
  {
   "cell_type": "code",
   "execution_count": 41,
   "metadata": {},
   "outputs": [
    {
     "name": "stdout",
     "output_type": "stream",
     "text": [
      "['a', ['bb', ['ccc', 'ddd'], 'ee', 'ff'], 'g', ['hh', 'ii'], 'j']\n",
      "a g j\n",
      "['bb', ['ccc', 'ddd'], 'ee', 'ff']\n",
      "['hh', 'ii']\n"
     ]
    }
   ],
   "source": [
    "x = ['a', ['bb', ['ccc', 'ddd'], 'ee', 'ff'], 'g', ['hh', 'ii'], 'j']\n",
    "print(x)\n",
    "print(x[0], x[2], x[4])\n",
    "print(x[1])\n",
    "print(x[3])"
   ]
  },
  {
   "cell_type": "code",
   "execution_count": 43,
   "metadata": {},
   "outputs": [
    {
     "name": "stdout",
     "output_type": "stream",
     "text": [
      "bb\n",
      "['ccc', 'ddd']\n",
      "ee\n",
      "ff\n"
     ]
    }
   ],
   "source": [
    "print(x[1][0])\n",
    "print(x[1][1])\n",
    "print(x[1][2])\n",
    "print(x[1][3])"
   ]
  },
  {
   "cell_type": "code",
   "execution_count": 44,
   "metadata": {},
   "outputs": [
    {
     "name": "stdout",
     "output_type": "stream",
     "text": [
      "hh\n",
      "ii\n"
     ]
    }
   ],
   "source": [
    "print(x[3][0])\n",
    "print(x[3][1])"
   ]
  },
  {
   "cell_type": "code",
   "execution_count": 45,
   "metadata": {},
   "outputs": [
    {
     "name": "stdout",
     "output_type": "stream",
     "text": [
      "['ccc', 'ddd']\n",
      "ccc ddd\n"
     ]
    }
   ],
   "source": [
    "print(x[1][1])\n",
    "print(x[1][1][0], x[1][1][1])"
   ]
  },
  {
   "cell_type": "code",
   "execution_count": 46,
   "metadata": {},
   "outputs": [
    {
     "name": "stdout",
     "output_type": "stream",
     "text": [
      "ddd\n",
      "[['ccc', 'ddd'], 'ee']\n",
      "['ii', 'hh']\n"
     ]
    }
   ],
   "source": [
    "print(x[1][1][-1])\n",
    "print(x[1][1:3])\n",
    "print(x[3][::-1])"
   ]
  },
  {
   "cell_type": "code",
   "execution_count": 47,
   "metadata": {},
   "outputs": [
    {
     "name": "stdout",
     "output_type": "stream",
     "text": [
      "5\n"
     ]
    }
   ],
   "source": [
    "print(len(x))"
   ]
  },
  {
   "cell_type": "code",
   "execution_count": 48,
   "metadata": {},
   "outputs": [
    {
     "name": "stdout",
     "output_type": "stream",
     "text": [
      "False\n",
      "False\n",
      "True\n"
     ]
    }
   ],
   "source": [
    "print('ddd' in x)\n",
    "print('ddd' in x[1])\n",
    "print('ddd' in x[1][1])"
   ]
  },
  {
   "cell_type": "markdown",
   "metadata": {},
   "source": [
    "## list v.s string (串列與字串)"
   ]
  },
  {
   "cell_type": "code",
   "execution_count": 38,
   "metadata": {},
   "outputs": [
    {
     "name": "stdout",
     "output_type": "stream",
     "text": [
      ".thgir eb tsum ti ,ti syas noelopaN edarmoC fI\n"
     ]
    }
   ],
   "source": [
    "# 直接對 string 操作\n",
    "print('If Comrade Napoleon says it, it must be right.'[::-1])"
   ]
  },
  {
   "cell_type": "code",
   "execution_count": 39,
   "metadata": {},
   "outputs": [
    {
     "name": "stdout",
     "output_type": "stream",
     "text": [
      "hello\n",
      "['h', 'e', 'l', 'l', 'o', 'w', 'o', 'r', 'l', 'd']\n",
      "helloworld\n"
     ]
    }
   ],
   "source": [
    "strs = 'helloworld'\n",
    "print(strs[0:5])\n",
    "strs = list(strs)\n",
    "print(strs)\n",
    "strs = ''.join(strs)\n",
    "print(strs)"
   ]
  },
  {
   "cell_type": "markdown",
   "metadata": {},
   "source": [
    "# tuple"
   ]
  },
  {
   "cell_type": "code",
   "execution_count": 66,
   "metadata": {},
   "outputs": [],
   "source": [
    "# tuple 元組：()\n",
    "\n",
    "## tuple vs. list: \n",
    "#  1. tuple 生成後不可修改；list 生成後可以修改 (區別：記憶體能否動態配置)\n",
    "#  2. tuple 的處理效能會優於 list，但 list 的彈性會優於 tuple"
   ]
  },
  {
   "cell_type": "code",
   "execution_count": 67,
   "metadata": {},
   "outputs": [
    {
     "data": {
      "text/plain": [
       "tuple"
      ]
     },
     "execution_count": 67,
     "metadata": {},
     "output_type": "execute_result"
    }
   ],
   "source": [
    "## 宣告方式\n",
    "tup1 = ()\n",
    "type(tup1)"
   ]
  },
  {
   "cell_type": "code",
   "execution_count": 68,
   "metadata": {},
   "outputs": [
    {
     "data": {
      "text/plain": [
       "tuple"
      ]
     },
     "execution_count": 68,
     "metadata": {},
     "output_type": "execute_result"
    }
   ],
   "source": [
    "tup2 = tuple()\n",
    "type(tup2)"
   ]
  },
  {
   "cell_type": "code",
   "execution_count": 69,
   "metadata": {},
   "outputs": [
    {
     "data": {
      "text/plain": [
       "('physics', 'chemistry', 1997, 2000)"
      ]
     },
     "execution_count": 69,
     "metadata": {},
     "output_type": "execute_result"
    }
   ],
   "source": [
    "tup3 = ('physics', 'chemistry', 1997, 2000)\n",
    "tup3"
   ]
  },
  {
   "cell_type": "code",
   "execution_count": 70,
   "metadata": {},
   "outputs": [
    {
     "data": {
      "text/plain": [
       "[]"
      ]
     },
     "execution_count": 70,
     "metadata": {},
     "output_type": "execute_result"
    }
   ],
   "source": [
    "# tuple 2 list\n",
    "list(tup1)     # tuple 2 list"
   ]
  },
  {
   "cell_type": "code",
   "execution_count": 72,
   "metadata": {},
   "outputs": [
    {
     "data": {
      "text/plain": [
       "()"
      ]
     },
     "execution_count": 72,
     "metadata": {},
     "output_type": "execute_result"
    }
   ],
   "source": [
    "# list 2 tuple\n",
    "tuple(tup1)     # list 2 tuple"
   ]
  },
  {
   "cell_type": "markdown",
   "metadata": {},
   "source": [
    "# dict (字典)\n",
    "\n",
    "字典顧名思義就是一個 key 對應一個 value，key 是唯一的。\n",
    "\n",
    "語法剖析：\n",
    "- 用一對大括弧 `{}` 來表示一個 dict 的開始與結束\n",
    "- 每一個元素都是一組 key-value\n",
    "- key 即是索引，每個索引對到一個值\n",
    "- key 與 value 中間用冒號隔開，每組之間用逗號隔開"
   ]
  },
  {
   "cell_type": "code",
   "execution_count": 50,
   "metadata": {},
   "outputs": [
    {
     "name": "stdout",
     "output_type": "stream",
     "text": [
      "{'apple': 10, 'cake': 5}\n"
     ]
    }
   ],
   "source": [
    "# 建立一個字典並且放入值\n",
    "stores = {'apple': 10, 'cake': 5}\n",
    "print(stores)"
   ]
  },
  {
   "cell_type": "code",
   "execution_count": 51,
   "metadata": {},
   "outputs": [
    {
     "name": "stdout",
     "output_type": "stream",
     "text": [
      "{'apple': 10, 'cake': 5, 'orange': 10}\n"
     ]
    }
   ],
   "source": [
    "# 新增一個值到字典\n",
    "stores['orange'] = 10\n",
    "print(stores)"
   ]
  },
  {
   "cell_type": "code",
   "execution_count": 52,
   "metadata": {},
   "outputs": [
    {
     "name": "stdout",
     "output_type": "stream",
     "text": [
      "{'apple': 10, 'cake': 5, 'orange': 10, 'juice': 12}\n"
     ]
    }
   ],
   "source": [
    "# 另一種新增職的方法\n",
    "stores.setdefault('juice', 12)\n",
    "print(stores)"
   ]
  },
  {
   "cell_type": "code",
   "execution_count": 54,
   "metadata": {},
   "outputs": [
    {
     "name": "stdout",
     "output_type": "stream",
     "text": [
      "{'apple': 10, 'cake': 5, 'orange': 10, 'juice': 12}\n",
      "{'apple': 12, 'cake': 5, 'orange': 10, 'juice': 12}\n"
     ]
    }
   ],
   "source": [
    "# 更改某一個字典 key 得值\n",
    "stores.setdefault('apple', 12)\n",
    "print(stores)\n",
    "stores['apple'] = 12\n",
    "print(stores)"
   ]
  },
  {
   "cell_type": "code",
   "execution_count": 56,
   "metadata": {},
   "outputs": [
    {
     "name": "stdout",
     "output_type": "stream",
     "text": [
      "12\n",
      "12\n"
     ]
    }
   ],
   "source": [
    "# 取出某個 key 值得兩種方法\n",
    "print(stores['apple'])\n",
    "print(stores.get('apple'))"
   ]
  },
  {
   "cell_type": "code",
   "execution_count": 57,
   "metadata": {},
   "outputs": [
    {
     "name": "stdout",
     "output_type": "stream",
     "text": [
      "{'cake': 5, 'orange': 10, 'juice': 12}\n",
      "{'cake': 5, 'orange': 10, 'juice': 12, 'apple': 12}\n"
     ]
    }
   ],
   "source": [
    "# 刪除某個 key 值接著把它新增回去\n",
    "stores.pop('apple')\n",
    "print(stores)\n",
    "stores['apple'] = 12\n",
    "print(stores)"
   ]
  },
  {
   "cell_type": "code",
   "execution_count": 58,
   "metadata": {},
   "outputs": [
    {
     "name": "stdout",
     "output_type": "stream",
     "text": [
      "{'cake': 5, 'orange': 10, 'juice': 12, 'apple': 12, 'beer': 20, 'win': 2}\n"
     ]
    }
   ],
   "source": [
    "# 將某個字典加入\n",
    "stores.update({'beer': 20, 'win': 2})\n",
    "print(stores)"
   ]
  },
  {
   "cell_type": "code",
   "execution_count": 59,
   "metadata": {},
   "outputs": [
    {
     "name": "stdout",
     "output_type": "stream",
     "text": [
      "{'cake': 5, 'orange': 10, 'juice': 12, 'beer': 20, 'win': 2}\n"
     ]
    }
   ],
   "source": [
    "# 刪除某個 key 值得另外一種方法\n",
    "del stores['apple']\n",
    "print(stores)"
   ]
  },
  {
   "cell_type": "code",
   "execution_count": 60,
   "metadata": {},
   "outputs": [
    {
     "name": "stdout",
     "output_type": "stream",
     "text": [
      "dict_keys(['cake', 'orange', 'juice', 'beer', 'win'])\n",
      "dict_values([5, 10, 12, 20, 2])\n"
     ]
    }
   ],
   "source": [
    "# 印出所有key 印出所有 values\n",
    "print(stores.keys())\n",
    "print(stores.values())"
   ]
  },
  {
   "cell_type": "code",
   "execution_count": 61,
   "metadata": {},
   "outputs": [
    {
     "name": "stdout",
     "output_type": "stream",
     "text": [
      "cake --> 5\n",
      "orange --> 10\n",
      "juice --> 12\n",
      "beer --> 20\n",
      "win --> 2\n"
     ]
    }
   ],
   "source": [
    "# 使用 for loop 印出每個字典的 key, value\n",
    "for k, v in stores.items():\n",
    "    print(k, '-->', v)"
   ]
  },
  {
   "cell_type": "code",
   "execution_count": 62,
   "metadata": {},
   "outputs": [
    {
     "name": "stdout",
     "output_type": "stream",
     "text": [
      "{'Tom': ['M', '16'], 'Mary': ['Female', '17']}\n"
     ]
    }
   ],
   "source": [
    "# 字典裡的 value 可以為任何資料型態\n",
    "user = {'Tom': ['M','16'], 'Mary': ['Female', '17']}\n",
    "print(user)"
   ]
  },
  {
   "cell_type": "markdown",
   "metadata": {},
   "source": [
    "# Set"
   ]
  },
  {
   "cell_type": "code",
   "execution_count": 63,
   "metadata": {},
   "outputs": [
    {
     "name": "stdout",
     "output_type": "stream",
     "text": [
      "<class 'set'> {'Sherry', 'Andy', 'Allen', 'Mars', 'Happy', 'Smile', 'Tony'}\n"
     ]
    }
   ],
   "source": [
    "# 建立兩個 set，一個為空一個有值\n",
    "admins = set()\n",
    "users = {'Smile', 'Tony','Happy','Sherry','Allen','Andy', 'Mars'}\n",
    "print(type(users), users)"
   ]
  },
  {
   "cell_type": "code",
   "execution_count": 64,
   "metadata": {},
   "outputs": [],
   "source": [
    "# 新增值到空 set\n",
    "admins.add('ihc')\n",
    "admins.add('Mars')"
   ]
  },
  {
   "cell_type": "code",
   "execution_count": 65,
   "metadata": {},
   "outputs": [
    {
     "name": "stdout",
     "output_type": "stream",
     "text": [
      "{'Mars'}\n",
      "{'ihc', 'Sherry', 'Andy', 'Allen', 'Mars', 'Happy', 'Smile', 'Tony'}\n",
      "{'Sherry', 'ihc', 'Andy', 'Allen', 'Smile', 'Happy', 'Tony'}\n",
      "{'ihc'}\n",
      "{'Sherry', 'Andy', 'Allen', 'Happy', 'Smile', 'Tony'}\n"
     ]
    }
   ],
   "source": [
    "# 對 set 做運算子\n",
    "print(admins & users)\n",
    "print(admins | users)\n",
    "print(admins ^ users)\n",
    "print(admins - users)\n",
    "print(users - admins)"
   ]
  },
  {
   "cell_type": "code",
   "execution_count": null,
   "metadata": {},
   "outputs": [],
   "source": []
  }
 ],
 "metadata": {
  "kernelspec": {
   "display_name": "Python 3",
   "language": "python",
   "name": "python3"
  },
  "language_info": {
   "codemirror_mode": {
    "name": "ipython",
    "version": 3
   },
   "file_extension": ".py",
   "mimetype": "text/x-python",
   "name": "python",
   "nbconvert_exporter": "python",
   "pygments_lexer": "ipython3",
   "version": "3.6.2"
  }
 },
 "nbformat": 4,
 "nbformat_minor": 2
}
